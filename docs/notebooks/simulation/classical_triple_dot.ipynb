{
 "cells": [
  {
   "cell_type": "markdown",
   "metadata": {},
   "source": [
    "# Classical simulation of triple dot"
   ]
  },
  {
   "cell_type": "markdown",
   "metadata": {},
   "source": [
    "This classical simulation of a triple dot system investigates the behaviour of the dot system at a fixed total electron number n=3. It specifically investigates the behaviour of the honeycomb measurements around different charge distribution states."
   ]
  },
  {
   "cell_type": "markdown",
   "metadata": {},
   "source": [
    "### Import packages"
   ]
  },
  {
   "cell_type": "code",
   "execution_count": 1,
   "metadata": {},
   "outputs": [],
   "source": [
    "%matplotlib inline\n",
    "import matplotlib.pyplot as plt\n",
    "\n",
    "import numpy as np\n",
    "from qtt.simulation.classicaldotsystem import ClassicalDotSystem, TripleDot"
   ]
  },
  {
   "cell_type": "markdown",
   "metadata": {},
   "source": [
    "### Initialize dot system"
   ]
  },
  {
   "cell_type": "code",
   "execution_count": 2,
   "metadata": {},
   "outputs": [],
   "source": [
    "DotSystem = TripleDot(maxelectrons=3)\n",
    "\n",
    "DotSystem.alpha = np.array([[1.0, 0.5, 0.25],\n",
    "                            [0.5, 1.0, 0.5],\n",
    "                            [0.25, 0.5, 1.0]])\n",
    "DotSystem.W = 2*np.array([5.0, 1.0, 5.0])\n",
    "DotSystem.Eadd = np.array([54.0, 54.0, 54.0])\n",
    "DotSystem.mu0 = np.array([-25.0, -25.0, -25.0])"
   ]
  },
  {
   "cell_type": "markdown",
   "metadata": {},
   "source": [
    "## 1. Standard Honeycomb example"
   ]
  },
  {
   "cell_type": "markdown",
   "metadata": {},
   "source": [
    "Help functions for calculating gate planes"
   ]
  },
  {
   "cell_type": "code",
   "execution_count": 3,
   "metadata": {},
   "outputs": [],
   "source": [
    "def create_linear_gate_matrix(gate_points, steps_x, steps_y):\n",
    "    x_y_start = gate_points[0]\n",
    "    x_end = gate_points[1]\n",
    "    y_end = gate_points[2]\n",
    "    step_x = ((x_end-x_y_start) * 1.0 / (steps_x-1))\n",
    "    step_y = ((y_end-x_y_start) * 1.0 / (steps_y-1))\n",
    "    return [[start_x+i*step_x for i in range(steps_x)] for start_x in [x_y_start+i*step_y for i in range(steps_y)]]\n",
    "\n",
    "def calculate_end_points(ref_point,ref_value,dirVecX,dirVecY,rangeX,rangeY):\n",
    "    gate_points = []\n",
    "    gate_points.append(ref_value-(rangeX*(1-ref_point[0])*dirVecX)-(rangeY*(1-ref_point[1])*dirVecY))\n",
    "    gate_points.append(gate_points[0]+rangeX*dirVecX)\n",
    "    gate_points.append(gate_points[0]+rangeY*dirVecY)\n",
    "    return gate_points\n",
    "\n",
    "def create_all_gate_matrix(ref_point, ref_value, dirVecX, dirVecY, rangeX, rangeY, pointsX, pointsY):\n",
    "    gate_matrix=np.zeros((3,pointsX,pointsY))\n",
    "    for gate in range(len(ref_value)):\n",
    "        end_points = calculate_end_points(ref_point,ref_value[gate],dirVecX[gate],dirVecY[gate],rangeX,rangeY)\n",
    "        gate_matrix[gate]= create_linear_gate_matrix(end_points,pointsX,pointsY)\n",
    "    return gate_matrix"
   ]
  },
  {
   "cell_type": "markdown",
   "metadata": {},
   "source": [
    "Define gate plane"
   ]
  },
  {
   "cell_type": "code",
   "execution_count": 36,
   "metadata": {},
   "outputs": [
    {
     "name": "stdout",
     "output_type": "stream",
     "text": [
      "simulatehoneycomb: 0/150\n",
      "simulatehoneycomb: 0.98 [s]\n"
     ]
    },
    {
     "data": {
      "image/png": "[encoded data removed]",
      "text/plain": [
       "<Figure size 432x288 with 2 Axes>"
      ]
     },
     "metadata": {
      "needs_background": "light"
     },
     "output_type": "display_data"
    }
   ],
   "source": [
    "P1 = 25.987333\n",
    "P2 = 83.0536667\n",
    "P3 = 94.987333\n",
    "ref_pt = [0.5, 0.5]\n",
    "ref_value = [P1, P2, P3]\n",
    "dirVecY = [0.0, 0.0, 1.0]\n",
    "dirVecX = [1.0, 0.0, 0.0]\n",
    "rangeX = 100\n",
    "rangeY = 100\n",
    "pointsX = 150\n",
    "pointsY = 150\n",
    "\n",
    "end_points_x = calculate_end_points(ref_pt,ref_value[0],dirVecX[0],dirVecY[0],rangeX,rangeY)\n",
    "sweepx = np.linspace(end_points_x[0], end_points_x[1], pointsX)\n",
    "\n",
    "end_points_y = calculate_end_points(ref_pt,ref_value[2],dirVecX[2],dirVecY[2],rangeX,rangeY)\n",
    "sweepy = np.linspace(end_points_y[0], end_points_y[2], pointsY)\n",
    "\n",
    "gate_matrix=create_all_gate_matrix(ref_pt, ref_value, dirVecX, dirVecY, rangeX, rangeY, pointsX, pointsY)\n",
    "\n",
    "centre_value = np.array([P1,P2,P3])\n",
    "charge_state = DotSystem.calculate_ground_state(centre_value)\n",
    "\n",
    "DotSystem.simulate_honeycomb(gate_matrix, multiprocess = False)\n",
    "\n",
    "plt.pcolor(sweepx,sweepy,DotSystem.honeycomb)\n",
    "plt.colorbar()\n",
    "plt.plot(centre_value[0], centre_value[2], 'yo')\n",
    "plt.annotate(np.array_str(charge_state), xy = (centre_value[0], centre_value[2]), color = 'y')\n",
    "plt.show()"
   ]
  },
  {
   "cell_type": "markdown",
   "metadata": {},
   "source": [
    "## 2. N=3 plane"
   ]
  },
  {
   "cell_type": "markdown",
   "metadata": {},
   "source": [
    "Let's now look at the N=3 plane around the 111 charge state. We will define two axis $\\epsilon$ and $\\delta$ for changing relative chemical potentials."
   ]
  },
  {
   "cell_type": "markdown",
   "metadata": {
    "collapsed": true
   },
   "source": [
    "### Virtual gates"
   ]
  },
  {
   "cell_type": "code",
   "execution_count": 7,
   "metadata": {},
   "outputs": [],
   "source": [
    "L = np.linalg.solve(DotSystem.alpha, np.array([1,0,0]))\n",
    "M = np.linalg.solve(DotSystem.alpha, np.array([0,1,0]))\n",
    "R = np.linalg.solve(DotSystem.alpha, np.array([0,0,1]))\n",
    "\n",
    "# \\epsilon = L - R\n",
    "dirVecX = L - R\n",
    "# \\delta = M - (L+R)/2\n",
    "dirVecY = M - L/2 - R/2"
   ]
  },
  {
   "cell_type": "markdown",
   "metadata": {},
   "source": [
    "### Use virtual gates to make gate plane"
   ]
  },
  {
   "cell_type": "code",
   "execution_count": 33,
   "metadata": {},
   "outputs": [],
   "source": [
    "rangeX = 75\n",
    "rangeY = 125\n",
    "\n",
    "sweepx = np.linspace(-rangeX/2,rangeX/2,pointsX)\n",
    "sweepy = np.linspace(-rangeY/2,rangeY/2,pointsY)\n",
    "\n",
    "gate_matrix=create_all_gate_matrix(ref_pt, ref_value, dirVecX, dirVecY, rangeX, rangeY, pointsX, pointsY)"
   ]
  },
  {
   "cell_type": "markdown",
   "metadata": {},
   "source": [
    "### Run simulation"
   ]
  },
  {
   "cell_type": "code",
   "execution_count": 34,
   "metadata": {},
   "outputs": [
    {
     "name": "stdout",
     "output_type": "stream",
     "text": [
      "simulatehoneycomb: 0/150\n",
      "simulatehoneycomb: 0.97 [s]\n"
     ]
    },
    {
     "data": {
      "image/png": "[encoded data removed]",
      "text/plain": [
       "<Figure size 432x288 with 2 Axes>"
      ]
     },
     "metadata": {
      "needs_background": "light"
     },
     "output_type": "display_data"
    }
   ],
   "source": [
    "DotSystem.simulate_honeycomb(gate_matrix, multiprocess = False)\n",
    "\n",
    "plt.pcolor(sweepx,sweepy,DotSystem.honeycomb)\n",
    "plt.colorbar()\n",
    "plt.plot(0, 0, 'yo')\n",
    "plt.annotate(np.array_str(charge_state), xy = (0, 0), color = 'y')\n",
    "plt.show()"
   ]
  },
  {
   "cell_type": "markdown",
   "metadata": {},
   "source": [
    "## Middle dot alignment"
   ]
  },
  {
   "cell_type": "markdown",
   "metadata": {},
   "source": [
    "### Intersection: 102, 201, 111"
   ]
  },
  {
   "cell_type": "code",
   "execution_count": 10,
   "metadata": {},
   "outputs": [],
   "source": [
    "P1 = 115.0\n",
    "P2 = -14.0\n",
    "P3 = 115.0\n",
    "ref_pt = [0.5, 0.5]\n",
    "ref_value = [P1, P2, P3]\n",
    "\n",
    "L = np.linalg.solve(DotSystem.alpha, np.array([1,0,0]))\n",
    "M = np.linalg.solve(DotSystem.alpha, np.array([0,1,0]))\n",
    "R = np.linalg.solve(DotSystem.alpha, np.array([0,0,1]))\n",
    "\n",
    "# M\n",
    "dirVecX = M\n",
    "# filling: (L + M + R)/3\n",
    "dirVecY = (L + M + R)/3\n",
    "\n",
    "rangeX = 20\n",
    "rangeY = 200\n",
    "\n",
    "pointsX = 150\n",
    "pointsY = 150\n",
    "\n",
    "sweepx = np.linspace(-rangeX/2,rangeX/2,pointsX)\n",
    "sweepy = np.linspace(-rangeY/2,rangeY/2,pointsY)\n",
    "\n",
    "gate_matrix=create_all_gate_matrix(ref_pt, ref_value, dirVecX, dirVecY, rangeX, rangeY, pointsX, pointsY)"
   ]
  },
  {
   "cell_type": "code",
   "execution_count": 31,
   "metadata": {
    "scrolled": false
   },
   "outputs": [
    {
     "name": "stdout",
     "output_type": "stream",
     "text": [
      "simulatehoneycomb: 0/150\n",
      "simulatehoneycomb: 145/150\n",
      "simulatehoneycomb: 1.05 [s]\n"
     ]
    },
    {
     "data": {
      "image/png": "[encoded data removed]",
      "text/plain": [
       "<Figure size 432x288 with 2 Axes>"
      ]
     },
     "metadata": {
      "needs_background": "light"
     },
     "output_type": "display_data"
    }
   ],
   "source": [
    "DotSystem.simulate_honeycomb(gate_matrix, multiprocess = False)\n",
    "\n",
    "plt.pcolor(sweepx,sweepy,DotSystem.honeycomb)\n",
    "plt.colorbar()\n",
    "plt.show()"
   ]
  },
  {
   "cell_type": "code",
   "execution_count": 12,
   "metadata": {},
   "outputs": [],
   "source": [
    "corner1 = ref_value - 0.2*M - 5/3 * (L+M+R)"
   ]
  },
  {
   "cell_type": "code",
   "execution_count": 13,
   "metadata": {},
   "outputs": [
    {
     "data": {
      "text/plain": [
       "array([114.02222222, -14.88888889, 114.02222222])"
      ]
     },
     "execution_count": 13,
     "metadata": {},
     "output_type": "execute_result"
    }
   ],
   "source": [
    "corner1"
   ]
  },
  {
   "cell_type": "markdown",
   "metadata": {},
   "source": [
    "### Intersection: 012, 021, 111"
   ]
  },
  {
   "cell_type": "code",
   "execution_count": 37,
   "metadata": {},
   "outputs": [
    {
     "name": "stdout",
     "output_type": "stream",
     "text": [
      "simulatehoneycomb: 0/90\n",
      "simulatehoneycomb: 0.38 [s]\n"
     ]
    },
    {
     "data": {
      "image/png": "[encoded data removed]",
      "text/plain": [
       "<Figure size 432x288 with 2 Axes>"
      ]
     },
     "metadata": {
      "needs_background": "light"
     },
     "output_type": "display_data"
    }
   ],
   "source": [
    "P1 = 45-30+10\n",
    "P2 = 103-18\n",
    "P3 = 45+30+10+8\n",
    "\n",
    "ref_pt = [0.5, 0.5]\n",
    "ref_value = [P1, P2, P3]\n",
    "\n",
    "L = np.linalg.solve(DotSystem.alpha, np.array([1,0,0]))\n",
    "M = np.linalg.solve(DotSystem.alpha, np.array([0,1,0]))\n",
    "R = np.linalg.solve(DotSystem.alpha, np.array([0,0,1]))\n",
    "\n",
    "# M\n",
    "dirVecX = M\n",
    "# filling: (L + M + R)/3\n",
    "dirVecY = (L + M + R)/3\n",
    "\n",
    "rangeX = 10\n",
    "rangeY = 10\n",
    "\n",
    "pointsX = 90\n",
    "pointsY = 90\n",
    "\n",
    "sweepx = np.linspace(-rangeX/2,rangeX/2,pointsX)\n",
    "sweepy = np.linspace(-rangeY/2,rangeY/2,pointsY)\n",
    "\n",
    "gate_matrix=create_all_gate_matrix(ref_pt, ref_value, dirVecX, dirVecY, rangeX, rangeY, pointsX, pointsY)\n",
    "\n",
    "DotSystem.simulate_honeycomb(gate_matrix, multiprocess = False)\n",
    "plt.pcolor(sweepx,sweepy,DotSystem.honeycomb)\n",
    "plt.colorbar()\n",
    "plt.show()"
   ]
  },
  {
   "cell_type": "code",
   "execution_count": 14,
   "metadata": {},
   "outputs": [
    {
     "data": {
      "text/plain": [
       "array([ 25.98733333,  83.05366667,  93.98733333])"
      ]
     },
     "execution_count": 14,
     "metadata": {},
     "output_type": "execute_result"
    }
   ],
   "source": [
    "corner3 = ref_value - 1.22*M + 0.783/3 * (L+M+R)\n",
    "corner3"
   ]
  },
  {
   "cell_type": "code",
   "execution_count": 21,
   "metadata": {},
   "outputs": [
    {
     "name": "stdout",
     "output_type": "stream",
     "text": [
      "simulatehoneycomb: 0/150\n",
      "simulatehoneycomb: 141/150\n",
      "simulatehoneycomb: 1.11 [s]\n"
     ]
    },
    {
     "data": {
      "image/png": "[encoded data removed]",
      "text/plain": [
       "<Figure size 432x288 with 2 Axes>"
      ]
     },
     "metadata": {
      "needs_background": "light"
     },
     "output_type": "display_data"
    }
   ],
   "source": [
    "ref_value = corner1\n",
    "rangeX = 75\n",
    "rangeY = 125\n",
    "pointsX = 150\n",
    "pointsY = 150\n",
    "# \\epsilon = L - R\n",
    "dirVecX = L - R\n",
    "# \\delta = M - (L+R)/2\n",
    "dirVecY = M - L/2 - R/2\n",
    "\n",
    "#end_points_x = calculate_end_points(ref_pt,ref_value[0],dirVecX[0],dirVecY[0],rangeX,rangeY)\n",
    "#sweepx = np.linspace(end_points_x[0], end_points_x[1], pointsX)\n",
    "\n",
    "#end_points_y = calculate_end_points(ref_pt,ref_value[2],dirVecX[2],dirVecY[2],rangeX,rangeY)\n",
    "#sweepy = np.linspace(end_points_y[0], end_points_y[2], pointsY)\n",
    "\n",
    "sweepx = np.linspace(-rangeX/2,rangeX/2,pointsX)\n",
    "sweepy = np.linspace(-rangeY/2,rangeY/2,pointsY)\n",
    "\n",
    "gate_matrix=create_all_gate_matrix(ref_pt, ref_value, dirVecX, dirVecY, rangeX, rangeY, pointsX, pointsY)\n",
    "\n",
    "DotSystem.simulate_honeycomb(gate_matrix, multiprocess = False)\n",
    "\n",
    "plt.pcolor(sweepx,sweepy,DotSystem.honeycomb)\n",
    "plt.colorbar()\n",
    "plt.plot(0, 0, 'yo')\n",
    "plt.annotate(np.array_str(charge_state), xy = (0, 0), color = 'y')\n",
    "plt.show()"
   ]
  },
  {
   "cell_type": "markdown",
   "metadata": {},
   "source": [
    "### Intersection: 120, 210, 111"
   ]
  },
  {
   "cell_type": "code",
   "execution_count": 22,
   "metadata": {},
   "outputs": [
    {
     "name": "stdout",
     "output_type": "stream",
     "text": [
      "simulatehoneycomb: 0/150\n",
      "simulatehoneycomb: 146/150\n",
      "simulatehoneycomb: 1.07 [s]\n"
     ]
    },
    {
     "data": {
      "image/png": "[encoded data removed]",
      "text/plain": [
       "<Figure size 432x288 with 2 Axes>"
      ]
     },
     "metadata": {
      "needs_background": "light"
     },
     "output_type": "display_data"
    }
   ],
   "source": [
    "P1 = 95.5\n",
    "P2 = 83\n",
    "P3 = 26\n",
    "ref_pt = [0.5, 0.5]\n",
    "ref_value = [P1, P2, P3]\n",
    "dirVecY = [0.0, 0.0, 1.0]\n",
    "dirVecX = [1.0, 0.0, 0.0]\n",
    "rangeX = 100\n",
    "rangeY = 100\n",
    "pointsX = 150\n",
    "pointsY = 150\n",
    "\n",
    "end_points_x = calculate_end_points(ref_pt,ref_value[0],dirVecX[0],dirVecY[0],rangeX,rangeY)\n",
    "sweepx = np.linspace(end_points_x[0], end_points_x[1], pointsX)\n",
    "\n",
    "end_points_y = calculate_end_points(ref_pt,ref_value[2],dirVecX[2],dirVecY[2],rangeX,rangeY)\n",
    "sweepy = np.linspace(end_points_y[0], end_points_y[2], pointsY)\n",
    "\n",
    "gate_matrix=create_all_gate_matrix(ref_pt, ref_value, dirVecX, dirVecY, rangeX, rangeY, pointsX, pointsY)\n",
    "\n",
    "centre_value = np.array([P1,P2,P3])\n",
    "charge_state = DotSystem.calculate_ground_state(centre_value)\n",
    "\n",
    "DotSystem.simulate_honeycomb(gate_matrix, multiprocess = False)\n",
    "\n",
    "plt.pcolor(sweepx,sweepy,DotSystem.honeycomb)\n",
    "plt.colorbar()\n",
    "plt.plot(centre_value[0], centre_value[2], 'yo')\n",
    "plt.annotate(np.array_str(charge_state), xy = (centre_value[0], centre_value[2]), color = 'y')\n",
    "plt.show()"
   ]
  },
  {
   "cell_type": "code",
   "execution_count": 38,
   "metadata": {},
   "outputs": [
    {
     "name": "stdout",
     "output_type": "stream",
     "text": [
      "simulatehoneycomb: 0/120\n",
      "simulatehoneycomb: 0.67 [s]\n"
     ]
    },
    {
     "data": {
      "image/png": "[encoded data removed]",
      "text/plain": [
       "<Figure size 432x288 with 2 Axes>"
      ]
     },
     "metadata": {
      "needs_background": "light"
     },
     "output_type": "display_data"
    }
   ],
   "source": [
    "# M\n",
    "dirVecX = M\n",
    "# filling: (L + M + R)/3\n",
    "dirVecY = (L + M + R)/3\n",
    "\n",
    "rangeX = 50\n",
    "rangeY = 50\n",
    "\n",
    "pointsX = 120\n",
    "pointsY = 120\n",
    "\n",
    "sweepx = np.linspace(-rangeX/2,rangeX/2,pointsX)\n",
    "sweepy = np.linspace(-rangeY/2,rangeY/2,pointsY)\n",
    "\n",
    "gate_matrix=create_all_gate_matrix(ref_pt, ref_value, dirVecX, dirVecY, rangeX, rangeY, pointsX, pointsY)\n",
    "\n",
    "DotSystem.simulate_honeycomb(gate_matrix, multiprocess = False)\n",
    "plt.pcolor(sweepx,sweepy,DotSystem.honeycomb)\n",
    "plt.colorbar()\n",
    "plt.show()"
   ]
  },
  {
   "cell_type": "code",
   "execution_count": 24,
   "metadata": {},
   "outputs": [
    {
     "data": {
      "text/plain": [
       "array([95.31511111, 82.45155556, 25.81511111])"
      ]
     },
     "execution_count": 24,
     "metadata": {},
     "output_type": "execute_result"
    }
   ],
   "source": [
    "corner2 = ref_value - 0.228*M - 1.516/3 * (L+M+R)\n",
    "corner2"
   ]
  },
  {
   "cell_type": "markdown",
   "metadata": {},
   "source": [
    "### 3 corners -> plane"
   ]
  },
  {
   "cell_type": "code",
   "execution_count": 25,
   "metadata": {},
   "outputs": [
    {
     "data": {
      "text/plain": [
       "array([6689.02489162, 7390.50833334, 6737.1329424 ])"
      ]
     },
     "execution_count": 25,
     "metadata": {},
     "output_type": "execute_result"
    }
   ],
   "source": [
    "corner1 = np.array([ 114.02222222,  -14.88888889,  114.02222222])\n",
    "corner2 = np.array([ 95.31511111,  82.45155556,  25.81511111])\n",
    "corner3 = np.array([ 25.98733333,  83.05366667,  93.98733333])\n",
    "\n",
    "np.cross(corner2-corner1,corner3-corner1)"
   ]
  },
  {
   "cell_type": "code",
   "execution_count": 26,
   "metadata": {},
   "outputs": [
    {
     "name": "stdout",
     "output_type": "stream",
     "text": [
      "simulatehoneycomb: 0/150\n",
      "simulatehoneycomb: 146/150\n",
      "simulatehoneycomb: 1.06 [s]\n"
     ]
    },
    {
     "data": {
      "image/png": "[encoded data removed]",
      "text/plain": [
       "<Figure size 432x288 with 2 Axes>"
      ]
     },
     "metadata": {
      "needs_background": "light"
     },
     "output_type": "display_data"
    }
   ],
   "source": [
    "corner1 = np.array([ 114.02222222,  -13,  114.02222222])\n",
    "ref_value = corner1\n",
    "rangeX = 125\n",
    "rangeY = 125\n",
    "pointsX = 150\n",
    "pointsY = 150\n",
    "# \\epsilon = L - R\n",
    "dirVecX = L - R\n",
    "# \\delta = M - (L+R)/2\n",
    "dirVecY = M - L/2 - R/2\n",
    "\n",
    "sweepx = np.linspace(-rangeX/2,rangeX/2,pointsX)\n",
    "sweepy = np.linspace(-rangeY/2,rangeY/2,pointsY)\n",
    "\n",
    "gate_matrix=create_all_gate_matrix(ref_pt, ref_value, dirVecX, dirVecY, rangeX, rangeY, pointsX, pointsY)\n",
    "\n",
    "DotSystem.simulate_honeycomb(gate_matrix, multiprocess = False)\n",
    "\n",
    "plt.pcolor(sweepx,sweepy,DotSystem.honeycomb)\n",
    "plt.colorbar()\n",
    "plt.plot(0, 0, 'yo')\n",
    "plt.plot(24, 42, 'yo')\n",
    "plt.plot(-24, 42, 'yo')\n",
    "charge_state1 = DotSystem.calculate_ground_state(corner1)\n",
    "charge_state2 = DotSystem.calculate_ground_state(corner2)\n",
    "charge_state3 = DotSystem.calculate_ground_state(corner3)\n",
    "plt.annotate(np.array_str(charge_state1), xy = (0, 0), color = 'y')\n",
    "plt.annotate(np.array_str(charge_state2), xy = (24, 42), color = 'y')\n",
    "plt.annotate(np.array_str(charge_state3), xy = (-24, 42), color = 'y')\n",
    "plt.show()"
   ]
  },
  {
   "cell_type": "code",
   "execution_count": 27,
   "metadata": {},
   "outputs": [
    {
     "data": {
      "text/plain": [
       "-32.034888890000005"
      ]
     },
     "execution_count": 27,
     "metadata": {},
     "output_type": "execute_result"
    }
   ],
   "source": [
    "corner3[0] - 58.02222222"
   ]
  },
  {
   "cell_type": "code",
   "execution_count": 28,
   "metadata": {},
   "outputs": [
    {
     "data": {
      "text/plain": [
       "-24.026249999999997"
      ]
     },
     "execution_count": 28,
     "metadata": {},
     "output_type": "execute_result"
    }
   ],
   "source": [
    "-32.035/(L[0] - R[0])"
   ]
  },
  {
   "cell_type": "code",
   "execution_count": 29,
   "metadata": {},
   "outputs": [
    {
     "data": {
      "text/plain": [
       "array([26.02222222, 85.        , 90.02222222])"
      ]
     },
     "execution_count": 29,
     "metadata": {},
     "output_type": "execute_result"
    }
   ],
   "source": [
    "corner1+42*(M-L/2-R/2)-24*(L-R)"
   ]
  },
  {
   "cell_type": "code",
   "execution_count": 30,
   "metadata": {},
   "outputs": [
    {
     "data": {
      "text/plain": [
       "array([90.02222222, 85.        , 26.02222222])"
      ]
     },
     "execution_count": 30,
     "metadata": {},
     "output_type": "execute_result"
    }
   ],
   "source": [
    "corner1+42*(M-L/2-R/2)+24*(L-R)"
   ]
  },
  {
   "cell_type": "code",
   "execution_count": null,
   "metadata": {
    "collapsed": true
   },
   "outputs": [],
   "source": []
  }
 ],
 "metadata": {
  "anaconda-cloud": {},
  "kernelspec": {
   "display_name": "Python 3",
   "language": "python",
   "name": "python3"
  },
  "language_info": {
   "codemirror_mode": {
    "name": "ipython",
    "version": 3
   },
   "file_extension": ".py",
   "mimetype": "text/x-python",
   "name": "python",
   "nbconvert_exporter": "python",
   "pygments_lexer": "ipython3",
   "version": "3.6.7"
  }
 },
 "nbformat": 4,
 "nbformat_minor": 1
}
