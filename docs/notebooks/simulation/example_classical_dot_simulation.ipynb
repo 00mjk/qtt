{
 "cells": [
  {
   "cell_type": "markdown",
   "metadata": {},
   "source": [
    "# Classical simulation of quantum dots"
   ]
  },
  {
   "cell_type": "markdown",
   "metadata": {},
   "source": [
    "In this file we show some of the capabilities of the `ClassicalDotSystem`, which can simulate simple quantum dot systems."
   ]
  },
  {
   "cell_type": "code",
   "execution_count": 5,
   "metadata": {},
   "outputs": [],
   "source": [
    "import numpy as np\n",
    "import matplotlib.pyplot as plt\n",
    "%matplotlib inline\n",
    "\n",
    "from qtt.simulation.classicaldotsystem import ClassicalDotSystem, TripleDot"
   ]
  },
  {
   "cell_type": "markdown",
   "metadata": {},
   "source": [
    "We define a linear triple-dot system using the `TripleDot` class, which inherits from the `ClassicalDotSystem`."
   ]
  },
  {
   "cell_type": "code",
   "execution_count": 6,
   "metadata": {},
   "outputs": [],
   "source": [
    "test_dot = TripleDot()"
   ]
  },
  {
   "cell_type": "markdown",
   "metadata": {},
   "source": [
    "The function `calculate_ground_state` calculates the number of electrons in the ground state for given values of the voltages on the gates forming the dots."
   ]
  },
  {
   "cell_type": "code",
   "execution_count": 7,
   "metadata": {},
   "outputs": [
    {
     "name": "stdout",
     "output_type": "stream",
     "text": [
      "[0 0 0]\n",
      "[1 0 1]\n"
     ]
    }
   ],
   "source": [
    "temp_state = test_dot.calculate_ground_state(np.array([0,0,0]));\n",
    "print(temp_state)\n",
    "temp_state = test_dot.calculate_ground_state(np.array([120,0,100]));\n",
    "print(temp_state)"
   ]
  },
  {
   "cell_type": "code",
   "execution_count": 11,
   "metadata": {},
   "outputs": [
    {
     "name": "stdout",
     "output_type": "stream",
     "text": [
      "simulatehoneycomb: 0/100\n",
      "simulatehoneycomb: 0.35 [s]\n"
     ]
    }
   ],
   "source": [
    "# make a test gate plane\n",
    "nx = 100\n",
    "ny = 100\n",
    "test2Dparams = np.zeros((3,nx,ny))\n",
    "sweepx = np.linspace(0, 300, nx)\n",
    "sweepy = np.linspace(0, 300, ny)\n",
    "xv, yv = np.meshgrid(sweepx, sweepy)\n",
    "test2Dparams[0] = xv+.1*yv\n",
    "xv, yv = np.meshgrid(sweepy, sweepx)\n",
    "test2Dparams[1] = .1*xv+yv\n",
    "\n",
    "# run the honeycomb simulation\n",
    "test_dot.simulate_honeycomb(test2Dparams, multiprocess=False, verbose=1)"
   ]
  },
  {
   "cell_type": "code",
   "execution_count": 12,
   "metadata": {},
   "outputs": [
    {
     "data": {
      "image/png": "[encoded data removed]",
      "text/plain": [
       "<Figure size 432x288 with 2 Axes>"
      ]
     },
     "metadata": {
      "needs_background": "light"
     },
     "output_type": "display_data"
    }
   ],
   "source": [
    "plt.pcolor(sweepx,sweepy,test_dot.honeycomb)\n",
    "plt.colorbar()\n",
    "plt.show()"
   ]
  },
  {
   "cell_type": "code",
   "execution_count": 13,
   "metadata": {},
   "outputs": [
    {
     "name": "stdout",
     "output_type": "stream",
     "text": [
      "simulatehoneycomb: 0/100\n",
      "simulatehoneycomb: 0.31 [s]\n"
     ]
    },
    {
     "data": {
      "image/png": "[encoded data removed]",
      "text/plain": [
       "<Figure size 432x288 with 2 Axes>"
      ]
     },
     "metadata": {
      "needs_background": "light"
     },
     "output_type": "display_data"
    }
   ],
   "source": [
    "test2Dparams[2] = 103\n",
    "\n",
    "# run the honeycomb simulation again\n",
    "test_dot.simulate_honeycomb(test2Dparams, multiprocess=False, verbose=1)\n",
    "plt.pcolor(sweepx,sweepy,test_dot.honeycomb)\n",
    "plt.colorbar()\n",
    "plt.show()"
   ]
  },
  {
   "cell_type": "markdown",
   "metadata": {},
   "source": [
    "## Defining your own system"
   ]
  },
  {
   "cell_type": "code",
   "execution_count": 14,
   "metadata": {},
   "outputs": [],
   "source": [
    "class TestDot(ClassicalDotSystem):\n",
    "    def __init__(self, name='testdot', **kwargs):\n",
    "        super().__init__(name=name, ndots=3, ngates=3, maxelectrons=2, **kwargs)\n",
    "\n",
    "        self.makebasis(ndots=3)\n",
    "\n",
    "        vardict = {}\n",
    "\n",
    "        vardict[\"mu0_values\"] = np.array([-27.0, -20.0, -25.0])  # chemical potential at zero gate voltage\n",
    "        vardict[\"Eadd_values\"] = np.array([54.0, 52.8, 54.0])  # addition energy\n",
    "        vardict[\"W_values\"] = np.array([12.0, 5.0, 10.0])  # inter-site Coulomb repulsion (!order is important: (1,2), (1,3), (2,3)) (lexicographic ordering)\n",
    "        vardict[\"alpha_values\"] = np.array([[1.0, 0.25, 0.1],\n",
    "                                 [0.25, 1.0, 0.25],\n",
    "                                 [0.1, 0.25, 1.0]])\n",
    "\n",
    "        for name in self.varnames:\n",
    "            setattr(self, name, vardict[name+'_values'])"
   ]
  },
  {
   "cell_type": "code",
   "execution_count": 17,
   "metadata": {},
   "outputs": [
    {
     "name": "stdout",
     "output_type": "stream",
     "text": [
      "simulatehoneycomb: 0/20\n",
      "simulatehoneycomb: 0.01 [s]\n"
     ]
    }
   ],
   "source": [
    "test_dot_2 = TestDot()\n",
    "\n",
    "# make a test gate plane\n",
    "nx = 20\n",
    "ny = 20\n",
    "test2Dparams = np.zeros((test_dot_2.ngates,nx,ny))\n",
    "\n",
    "sweepx = np.linspace(-100, 460, nx)\n",
    "sweepy = np.linspace(-100, 500, ny)\n",
    "xv, yv = np.meshgrid(sweepx, sweepy)\n",
    "test2Dparams[0] = xv+.1*yv\n",
    "xv, yv = np.meshgrid(sweepy, sweepx)\n",
    "test2Dparams[2] = .1*xv+yv\n",
    "\n",
    "# run the honeycomb simulation\n",
    "test_dot_2.simulate_honeycomb(test2Dparams, multiprocess=False)"
   ]
  },
  {
   "cell_type": "code",
   "execution_count": 18,
   "metadata": {},
   "outputs": [
    {
     "data": {
      "image/png": "[encoded data removed]",
      "text/plain": [
       "<Figure size 432x288 with 2 Axes>"
      ]
     },
     "metadata": {
      "needs_background": "light"
     },
     "output_type": "display_data"
    }
   ],
   "source": [
    "plt.clf()\n",
    "plt.pcolor(sweepx,sweepy,test_dot_2.hcgs.sum(axis=2))\n",
    "plt.colorbar()\n",
    "plt.show()"
   ]
  },
  {
   "cell_type": "code",
   "execution_count": 19,
   "metadata": {
    "scrolled": true
   },
   "outputs": [
    {
     "data": {
      "image/png": "[encoded data removed]",
      "text/plain": [
       "<Figure size 432x288 with 2 Axes>"
      ]
     },
     "metadata": {
      "needs_background": "light"
     },
     "output_type": "display_data"
    }
   ],
   "source": [
    "plt.clf()\n",
    "plt.pcolor(sweepx,sweepy,test_dot_2.honeycomb)\n",
    "plt.colorbar()\n",
    "plt.show()"
   ]
  },
  {
   "cell_type": "code",
   "execution_count": null,
   "metadata": {
    "collapsed": true
   },
   "outputs": [],
   "source": []
  }
 ],
 "metadata": {
  "kernelspec": {
   "display_name": "Python 3",
   "language": "python",
   "name": "python3"
  },
  "language_info": {
   "codemirror_mode": {
    "name": "ipython",
    "version": 3
   },
   "file_extension": ".py",
   "mimetype": "text/x-python",
   "name": "python",
   "nbconvert_exporter": "python",
   "pygments_lexer": "ipython3",
   "version": "3.6.7"
  }
 },
 "nbformat": 4,
 "nbformat_minor": 1
}
