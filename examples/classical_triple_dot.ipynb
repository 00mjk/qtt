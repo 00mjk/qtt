{
 "cells": [
  {
   "cell_type": "markdown",
   "metadata": {},
   "source": [
    "## Classical simulation of triple dot"
   ]
  },
  {
   "cell_type": "markdown",
   "metadata": {},
   "source": [
    "This classical simulation of a triple dot system investigates the behaviour of the dot system at a fixed total electron number n=3. It specifically investigates the behaviour of the honeycomb measurements around different charge distribution states."
   ]
  },
  {
   "cell_type": "markdown",
   "metadata": {},
   "source": [
    "### Import packages"
   ]
  },
  {
   "cell_type": "code",
   "execution_count": 1,
   "metadata": {
    "collapsed": false
   },
   "outputs": [
    {
     "data": {
      "application/javascript": [
       "/*\n",
       " * Qcodes Jupyter/IPython widgets\n",
       " */\n",
       "require([\n",
       "    'nbextensions/widgets/widgets/js/widget',\n",
       "    'nbextensions/widgets/widgets/js/manager'\n",
       "], function (widget, manager) {\n",
       "\n",
       "    var UpdateView = widget.DOMWidgetView.extend({\n",
       "        render: function() {\n",
       "            window.MYWIDGET = this;\n",
       "            this._interval = 0;\n",
       "            this.update();\n",
       "        },\n",
       "        update: function() {\n",
       "            this.display(this.model.get('_message'));\n",
       "            this.setInterval();\n",
       "        },\n",
       "        display: function(message) {\n",
       "            /*\n",
       "             * display method: override this for custom display logic\n",
       "             */\n",
       "            this.el.innerHTML = message;\n",
       "        },\n",
       "        remove: function() {\n",
       "            clearInterval(this._updater);\n",
       "        },\n",
       "        setInterval: function(newInterval) {\n",
       "            var me = this;\n",
       "            if(newInterval===undefined) newInterval = me.model.get('interval');\n",
       "            if(newInterval===me._interval) return;\n",
       "\n",
       "            me._interval = newInterval;\n",
       "\n",
       "            if(me._updater) clearInterval(me._updater);\n",
       "\n",
       "            if(me._interval) {\n",
       "                me._updater = setInterval(function() {\n",
       "                    me.send({myupdate: true});\n",
       "                    if(!me.model.comm_live) {\n",
       "                        console.log('missing comm, canceling widget updates', me);\n",
       "                        clearInterval(me._updater);\n",
       "                    }\n",
       "                }, me._interval * 1000);\n",
       "            }\n",
       "        }\n",
       "    });\n",
       "    manager.WidgetManager.register_widget_view('UpdateView', UpdateView);\n",
       "\n",
       "    var HiddenUpdateView = UpdateView.extend({\n",
       "        display: function(message) {\n",
       "            this.$el.hide();\n",
       "        }\n",
       "    });\n",
       "    manager.WidgetManager.register_widget_view('HiddenUpdateView', HiddenUpdateView);\n",
       "\n",
       "    var SubprocessView = UpdateView.extend({\n",
       "        render: function() {\n",
       "            var me = this;\n",
       "            me._interval = 0;\n",
       "            me._minimize = '<i class=\"fa-minus fa\"></i>';\n",
       "            me._restore = '<i class=\"fa-plus fa\"></i>';\n",
       "\n",
       "            // max lines of output to show\n",
       "            me.maxOutputLength = 500;\n",
       "\n",
       "            // in case there is already an outputView present,\n",
       "            // like from before restarting the kernel\n",
       "            $('.qcodes-output-view').not(me.$el).remove();\n",
       "\n",
       "            me.$el\n",
       "                .addClass('qcodes-output-view')\n",
       "                .attr('qcodes-state', 'docked')\n",
       "                .html(\n",
       "                    '<div class=\"qcodes-output-header toolbar\">' +\n",
       "                        '<div class=\"qcodes-process-list\"></div>' +\n",
       "                        '<button class=\"btn qcodes-processlines\"><i class=\"fa-list fa\"></i></button>' +\n",
       "                        '<button class=\"btn qcodes-abort-loop disabled\">Abort</button>' +\n",
       "                        '<button class=\"btn qcodes-clear-output disabled qcodes-content\">Clear</button>' +\n",
       "                        '<button class=\"btn js-state qcodes-minimized\"><i class=\"fa-minus fa\"></i></button>' +\n",
       "                        '<button class=\"btn js-state qcodes-docked\"><i class=\"fa-toggle-up fa\"></i></button>' +\n",
       "                        '<button class=\"btn js-state qcodes-floated\"><i class=\"fa-arrows fa\"></i></button>' +\n",
       "                    '</div>' +\n",
       "                    '<pre class=\"qcodes-content\"></pre>'\n",
       "                );\n",
       "\n",
       "            me.clearButton = me.$el.find('.qcodes-clear-output');\n",
       "            me.minButton = me.$el.find('.qcodes-minimize');\n",
       "            me.outputArea = me.$el.find('pre');\n",
       "            me.subprocessList = me.$el.find('.qcodes-process-list');\n",
       "            me.abortButton = me.$el.find('.qcodes-abort-loop');\n",
       "            me.processLinesButton = me.$el.find('.qcodes-processlines')\n",
       "\n",
       "            me.outputLines = [];\n",
       "\n",
       "            me.clearButton.click(function() {\n",
       "                me.outputArea.html('');\n",
       "                me.clearButton.addClass('disabled');\n",
       "            });\n",
       "\n",
       "            me.abortButton.click(function() {\n",
       "                me.send({abort: true});\n",
       "            });\n",
       "\n",
       "            me.processLinesButton.click(function() {\n",
       "                // toggle multiline process list display\n",
       "                me.subprocessesMultiline = !me.subprocessesMultiline;\n",
       "                me.showSubprocesses();\n",
       "            });\n",
       "\n",
       "            me.$el.find('.js-state').click(function() {\n",
       "                var state = this.className.substr(this.className.indexOf('qcodes'))\n",
       "                        .split('-')[1].split(' ')[0];\n",
       "                me.model.set('_state', state);\n",
       "            });\n",
       "\n",
       "            $(window)\n",
       "                .off('resize.qcodes')\n",
       "                .on('resize.qcodes', function() {me.clipBounds();});\n",
       "\n",
       "            me.update();\n",
       "        },\n",
       "\n",
       "        updateState: function() {\n",
       "            var me = this,\n",
       "                oldState = me.$el.attr('qcodes-state'),\n",
       "                state = me.model.get('_state');\n",
       "\n",
       "            if(state === oldState) return;\n",
       "\n",
       "            setTimeout(function() {\n",
       "                // not sure why I can't pop it out of the widgetarea in render, but it seems that\n",
       "                // some other bit of code resets the parent after render if I do it there.\n",
       "                // To be safe, just do it on every state click.\n",
       "                me.$el.appendTo('body');\n",
       "\n",
       "                if(oldState === 'floated') {\n",
       "                    console.log('here');\n",
       "                    me.$el.draggable('destroy').css({left:'', top: ''});\n",
       "                }\n",
       "\n",
       "                me.$el.attr('qcodes-state', state);\n",
       "\n",
       "                if(state === 'floated') {\n",
       "                    me.$el\n",
       "                        .draggable({stop: function() { me.clipBounds(); }})\n",
       "                        .css({\n",
       "                            left: window.innerWidth - me.$el.width() - 15,\n",
       "                            top: window.innerHeight - me.$el.height() - 10\n",
       "                        });\n",
       "                }\n",
       "\n",
       "                // any previous highlighting is now moot\n",
       "                me.$el.removeClass('qcodes-highlight');\n",
       "            }, 0);\n",
       "\n",
       "        },\n",
       "\n",
       "        clipBounds: function() {\n",
       "            var me = this;\n",
       "            if(me.$el.attr('qcodes-state') === 'floated') {\n",
       "                var bounds = me.$el[0].getBoundingClientRect(),\n",
       "                    minVis = 40,\n",
       "                    maxLeft = window.innerWidth - minVis,\n",
       "                    minLeft = minVis - bounds.width,\n",
       "                    maxTop = window.innerHeight - minVis;\n",
       "\n",
       "                if(bounds.left > maxLeft) me.$el.css('left', maxLeft);\n",
       "                else if(bounds.left < minLeft) me.$el.css('left', minLeft);\n",
       "\n",
       "                if(bounds.top > maxTop) me.$el.css('top', maxTop);\n",
       "                else if(bounds.top < 0) me.$el.css('top', 0);\n",
       "            }\n",
       "        },\n",
       "\n",
       "        display: function(message) {\n",
       "            var me = this;\n",
       "            if(message) {\n",
       "                var initialScroll = me.outputArea.scrollTop();\n",
       "                me.outputArea.scrollTop(me.outputArea.prop('scrollHeight'));\n",
       "                var scrollBottom = me.outputArea.scrollTop();\n",
       "\n",
       "                if(me.$el.attr('qcodes-state') === 'minimized') {\n",
       "                    // if we add text and the box is minimized, highlight the\n",
       "                    // title bar to alert the user that there are new messages.\n",
       "                    // remove then add the class, so we get the animation again\n",
       "                    // if it's already highlighted\n",
       "                    me.$el.removeClass('qcodes-highlight');\n",
       "                    setTimeout(function(){\n",
       "                        me.$el.addClass('qcodes-highlight');\n",
       "                    }, 0);\n",
       "                }\n",
       "\n",
       "                var newLines = message.split('\\n'),\n",
       "                    out = me.outputLines,\n",
       "                    outLen = out.length;\n",
       "                if(outLen) out[outLen - 1] += newLines[0];\n",
       "                else out.push(newLines[0]);\n",
       "\n",
       "                for(var i = 1; i < newLines.length; i++) {\n",
       "                    out.push(newLines[i]);\n",
       "                }\n",
       "\n",
       "                if(out.length > me.maxOutputLength) {\n",
       "                    out.splice(0, out.length - me.maxOutputLength + 1,\n",
       "                        '<<< Output clipped >>>');\n",
       "                }\n",
       "\n",
       "                me.outputArea.text(out.join('\\n'));\n",
       "                me.clearButton.removeClass('disabled');\n",
       "\n",
       "                // if we were scrolled to the bottom initially, make sure\n",
       "                // we stay that way.\n",
       "                me.outputArea.scrollTop(initialScroll === scrollBottom ?\n",
       "                    me.outputArea.prop('scrollHeight') : initialScroll);\n",
       "            }\n",
       "\n",
       "            me.showSubprocesses();\n",
       "            me.updateState();\n",
       "        },\n",
       "\n",
       "        showSubprocesses: function() {\n",
       "            var me = this,\n",
       "                replacer = me.subprocessesMultiline ? '<br>' : ', ',\n",
       "                processes = (me.model.get('_processes') || '')\n",
       "                    .replace(/\\n/g, '&gt;' + replacer + '&lt;');\n",
       "\n",
       "            if(processes) processes = '&lt;' + processes + '&gt;';\n",
       "            else processes = 'No subprocesses';\n",
       "\n",
       "            me.abortButton.toggleClass('disabled', processes.indexOf('Measurement')===-1);\n",
       "\n",
       "            me.subprocessList.html(processes);\n",
       "        }\n",
       "    });\n",
       "    manager.WidgetManager.register_widget_view('SubprocessView', SubprocessView);\n",
       "});\n"
      ],
      "text/plain": [
       "<IPython.core.display.Javascript object>"
      ]
     },
     "metadata": {},
     "output_type": "display_data"
    },
    {
     "data": {
      "text/html": [
       "<style>.qcodes-output-view:not(.ui-draggable) {\n",
       "    bottom: 0;\n",
       "    right: 5px;\n",
       "}\n",
       ".qcodes-output-view {\n",
       "    position: fixed;\n",
       "    z-index: 999;\n",
       "    background-color: #fff;\n",
       "    box-shadow: 0 0 12px 1px rgba(87, 87, 87, 0.2);\n",
       "}\n",
       "\n",
       ".qcodes-output-header {\n",
       "    float: right;\n",
       "}\n",
       "\n",
       ".qcodes-highlight {\n",
       "    animation: pulse 1s linear;\n",
       "    background-color: #fa4;\n",
       "}\n",
       "\n",
       "@keyframes pulse {\n",
       "    0% {\n",
       "        background-color: #f00;\n",
       "    }\n",
       "    100% {\n",
       "        background-color: #fa4;\n",
       "    }\n",
       "}\n",
       "\n",
       ".qcodes-process-list {\n",
       "    float: left;\n",
       "    max-width: 780px;\n",
       "    margin: 3px 5px 3px 10px;\n",
       "    overflow: hidden;\n",
       "    white-space: nowrap;\n",
       "    text-overflow: ellipsis;\n",
       "}\n",
       "\n",
       ".qcodes-output-view[qcodes-state=minimized] .qcodes-process-list {\n",
       "    max-width: 300px;\n",
       "}\n",
       "\n",
       ".qcodes-output-view span {\n",
       "    padding: 2px 6px 3px 12px;\n",
       "}\n",
       "\n",
       ".qcodes-output-view .btn {\n",
       "    margin: 0 3px 0 0;\n",
       "}\n",
       "\n",
       ".qcodes-output-view[qcodes-state=docked] .qcodes-docked,\n",
       ".qcodes-output-view[qcodes-state=floated] .qcodes-floated,\n",
       ".qcodes-output-view[qcodes-state=minimized] .qcodes-minimized,\n",
       ".qcodes-output-view[qcodes-state=minimized] .qcodes-content {\n",
       "    display: none;\n",
       "}\n",
       "\n",
       ".qcodes-output-view .disabled {\n",
       "    opacity: 0.4;\n",
       "}\n",
       "\n",
       ".qcodes-abort-loop {\n",
       "    background-color: #844;\n",
       "    color: #fff;\n",
       "}\n",
       "\n",
       ".qcodes-output-view pre {\n",
       "    clear: both;\n",
       "    margin: 0;\n",
       "    border: 0;\n",
       "    border-top: 1px solid #ccc;\n",
       "    background-color: #ffe;\n",
       "    min-height: 50px;\n",
       "    max-height: 400px;\n",
       "    min-width: 400px;\n",
       "    max-width: 1000px;\n",
       "}</style>"
      ],
      "text/plain": [
       "<IPython.core.display.HTML object>"
      ]
     },
     "metadata": {},
     "output_type": "display_data"
    },
    {
     "name": "stderr",
     "output_type": "stream",
     "text": [
      "/Users/laurens/Qcodes/qtt/qtt/pmatlab.py:174: UserWarning: pmatlab: could not load skimage.filters, not all functionality is available\n",
      "  warnings.warn('pmatlab: could not load skimage.filters, not all functionality is available')\n"
     ]
    }
   ],
   "source": [
    "%matplotlib inline\n",
    "import matplotlib.pyplot as plt\n",
    "\n",
    "import numpy as np\n",
    "from qtt.simulation.classicaldotsystem import ClassicalDotSystem, TripleDot\n"
   ]
  },
  {
   "cell_type": "markdown",
   "metadata": {},
   "source": [
    "### Initialize dot system"
   ]
  },
  {
   "cell_type": "code",
   "execution_count": 2,
   "metadata": {
    "collapsed": false
   },
   "outputs": [],
   "source": [
    "DotSystem = TripleDot(maxelectrons=3)\n",
    "\n",
    "DotSystem.alpha = np.array([[1.0, 0.5, 0.25],\n",
    "                            [0.5, 1.0, 0.5],\n",
    "                            [0.25, 0.5, 1.0]])\n",
    "DotSystem.W = 2*np.array([5.0, 1.0, 5.0])\n",
    "DotSystem.Eadd = np.array([54.0, 54.0, 54.0])\n",
    "DotSystem.mu0 = np.array([-25.0, -25.0, -25.0])"
   ]
  },
  {
   "cell_type": "markdown",
   "metadata": {},
   "source": [
    "## 1. Standard Honeycomb example"
   ]
  },
  {
   "cell_type": "markdown",
   "metadata": {},
   "source": [
    "### Help functions for calculating gate planes"
   ]
  },
  {
   "cell_type": "code",
   "execution_count": 3,
   "metadata": {
    "collapsed": false
   },
   "outputs": [],
   "source": [
    "def create_linear_gate_matrix(gate_points, steps_x, steps_y):\n",
    "    x_y_start = gate_points[0]\n",
    "    x_end = gate_points[1]\n",
    "    y_end = gate_points[2]\n",
    "    step_x = ((x_end-x_y_start) * 1.0 / (steps_x-1))\n",
    "    step_y = ((y_end-x_y_start) * 1.0 / (steps_y-1))\n",
    "    return [[start_x+i*step_x for i in range(steps_x)] for start_x in [x_y_start+i*step_y for i in range(steps_y)]]\n",
    "\n",
    "def calculate_end_points(ref_point,ref_value,dirVecX,dirVecY,rangeX,rangeY):\n",
    "    gate_points = []\n",
    "    gate_points.append(ref_value-(rangeX*(1-ref_point[0])*dirVecX)-(rangeY*(1-ref_point[1])*dirVecY))\n",
    "    gate_points.append(gate_points[0]+rangeX*dirVecX)\n",
    "    gate_points.append(gate_points[0]+rangeY*dirVecY)\n",
    "    return gate_points\n",
    "\n",
    "def create_all_gate_matrix(ref_point, ref_value, dirVecX, dirVecY, rangeX, rangeY, pointsX, pointsY):\n",
    "    gate_matrix=np.zeros((3,pointsX,pointsY))\n",
    "    for gate in range(len(ref_value)):\n",
    "        end_points = calculate_end_points(ref_point,ref_value[gate],dirVecX[gate],dirVecY[gate],rangeX,rangeY)\n",
    "        gate_matrix[gate]= create_linear_gate_matrix(end_points,pointsX,pointsY)\n",
    "    return gate_matrix"
   ]
  },
  {
   "cell_type": "markdown",
   "metadata": {},
   "source": [
    "### Define gate plane"
   ]
  },
  {
   "cell_type": "code",
   "execution_count": 4,
   "metadata": {
    "collapsed": false
   },
   "outputs": [
    {
     "name": "stdout",
     "output_type": "stream",
     "text": [
      "simulatehoneycomb: 0.54 [s]\n"
     ]
    },
    {
     "data": {
      "image/png": "[encoded data removed]",
      "text/plain": [
       "<matplotlib.figure.Figure at 0x11dfeee48>"
      ]
     },
     "metadata": {},
     "output_type": "display_data"
    }
   ],
   "source": [
    "P1 = 25.987333\n",
    "P2 = 83.0536667\n",
    "P3 = 94.987333\n",
    "ref_pt = [0.5, 0.5]\n",
    "ref_value = [P1, P2, P3]\n",
    "dirVecY = [0.0, 0.0, 1.0]\n",
    "dirVecX = [1.0, 0.0, 0.0]\n",
    "rangeX = 100\n",
    "rangeY = 100\n",
    "pointsX = 150\n",
    "pointsY = 150\n",
    "\n",
    "end_points_x = calculate_end_points(ref_pt,ref_value[0],dirVecX[0],dirVecY[0],rangeX,rangeY)\n",
    "sweepx = np.linspace(end_points_x[0], end_points_x[1], pointsX)\n",
    "\n",
    "end_points_y = calculate_end_points(ref_pt,ref_value[2],dirVecX[2],dirVecY[2],rangeX,rangeY)\n",
    "sweepy = np.linspace(end_points_y[0], end_points_y[2], pointsY)\n",
    "\n",
    "gate_matrix=create_all_gate_matrix(ref_pt, ref_value, dirVecX, dirVecY, rangeX, rangeY, pointsX, pointsY)\n",
    "\n",
    "centre_value = np.array([P1,P2,P3])\n",
    "charge_state = DotSystem.calculate_ground_state(centre_value)\n",
    "\n",
    "DotSystem.simulate_honeycomb(gate_matrix)\n",
    "\n",
    "plt.pcolor(sweepx,sweepy,DotSystem.honeycomb)\n",
    "plt.colorbar()\n",
    "plt.plot(centre_value[0], centre_value[2], 'yo')\n",
    "plt.annotate(np.array_str(charge_state), xy = (centre_value[0], centre_value[2]), color = 'y')\n",
    "plt.show()"
   ]
  },
  {
   "cell_type": "markdown",
   "metadata": {
    "collapsed": false
   },
   "source": [
    "## 2. N=3 plane"
   ]
  },
  {
   "cell_type": "markdown",
   "metadata": {
    "collapsed": false
   },
   "source": [
    "Let's now look at the N=3 plane around the 111 charge state. We will define two axis \\epsilon and \\delta for changing relative chemical potentials."
   ]
  },
  {
   "cell_type": "markdown",
   "metadata": {
    "collapsed": true
   },
   "source": [
    "### Virtual gates"
   ]
  },
  {
   "cell_type": "code",
   "execution_count": 5,
   "metadata": {
    "collapsed": false
   },
   "outputs": [],
   "source": [
    "L = np.linalg.solve(DotSystem.alpha, np.array([1,0,0]))\n",
    "M = np.linalg.solve(DotSystem.alpha, np.array([0,1,0]))\n",
    "R = np.linalg.solve(DotSystem.alpha, np.array([0,0,1]))\n",
    "\n",
    "# \\epsilon = L - R\n",
    "dirVecX = L - R\n",
    "# \\delta = M - (L+R)/2\n",
    "dirVecY = M - L/2 - R/2"
   ]
  },
  {
   "cell_type": "markdown",
   "metadata": {},
   "source": [
    "### Use virtual gates to make gate plane"
   ]
  },
  {
   "cell_type": "code",
   "execution_count": 6,
   "metadata": {
    "collapsed": false
   },
   "outputs": [],
   "source": [
    "rangeX = 75\n",
    "rangeY = 125\n",
    "\n",
    "#end_points_x = calculate_end_points(ref_pt,ref_value[0],dirVecX[0],dirVecY[0],rangeX,rangeY)\n",
    "#sweepx = np.linspace(end_points_x[0], end_points_x[1], pointsX)\n",
    "\n",
    "#end_points_y = calculate_end_points(ref_pt,ref_value[2],dirVecX[2],dirVecY[2],rangeX,rangeY)\n",
    "#sweepy = np.linspace(end_points_y[0], end_points_y[2], pointsY)\n",
    "\n",
    "sweepx = np.linspace(-rangeX/2,rangeX/2,pointsX)\n",
    "sweepy = np.linspace(-rangeY/2,rangeY/2,pointsY)\n",
    "\n",
    "gate_matrix=create_all_gate_matrix(ref_pt, ref_value, dirVecX, dirVecY, rangeX, rangeY, pointsX, pointsY)"
   ]
  },
  {
   "cell_type": "markdown",
   "metadata": {},
   "source": [
    "### Run simulation"
   ]
  },
  {
   "cell_type": "code",
   "execution_count": 7,
   "metadata": {
    "collapsed": false
   },
   "outputs": [
    {
     "name": "stdout",
     "output_type": "stream",
     "text": [
      "simulatehoneycomb: 0.61 [s]\n"
     ]
    },
    {
     "data": {
      "image/png": "[encoded data removed]",
      "text/plain": [
       "<matplotlib.figure.Figure at 0x11dff6e10>"
      ]
     },
     "metadata": {},
     "output_type": "display_data"
    }
   ],
   "source": [
    "DotSystem.simulate_honeycomb(gate_matrix)\n",
    "\n",
    "plt.pcolor(sweepx,sweepy,DotSystem.honeycomb)\n",
    "plt.colorbar()\n",
    "plt.plot(0, 0, 'yo')\n",
    "plt.annotate(np.array_str(charge_state), xy = (0, 0), color = 'y')\n",
    "plt.show()"
   ]
  },
  {
   "cell_type": "markdown",
   "metadata": {},
   "source": [
    "## Middle dot alignment"
   ]
  },
  {
   "cell_type": "markdown",
   "metadata": {},
   "source": [
    "### Intersection: 102, 201, 111"
   ]
  },
  {
   "cell_type": "code",
   "execution_count": 15,
   "metadata": {
    "collapsed": false
   },
   "outputs": [],
   "source": [
    "P1 = 115.0\n",
    "P2 = -14.0\n",
    "P3 = 115.0\n",
    "ref_pt = [0.5, 0.5]\n",
    "ref_value = [P1, P2, P3]\n",
    "\n",
    "L = np.linalg.solve(DotSystem.alpha, np.array([1,0,0]))\n",
    "M = np.linalg.solve(DotSystem.alpha, np.array([0,1,0]))\n",
    "R = np.linalg.solve(DotSystem.alpha, np.array([0,0,1]))\n",
    "\n",
    "# M\n",
    "dirVecX = M\n",
    "# filling: (L + M + R)/3\n",
    "dirVecY = (L + M + R)/3\n",
    "\n",
    "rangeX = 20\n",
    "rangeY = 200\n",
    "\n",
    "pointsX = 150\n",
    "pointsY = 150\n",
    "\n",
    "sweepx = np.linspace(-rangeX/2,rangeX/2,pointsX)\n",
    "sweepy = np.linspace(-rangeY/2,rangeY/2,pointsY)\n",
    "\n",
    "gate_matrix=create_all_gate_matrix(ref_pt, ref_value, dirVecX, dirVecY, rangeX, rangeY, pointsX, pointsY)"
   ]
  },
  {
   "cell_type": "code",
   "execution_count": 16,
   "metadata": {
    "collapsed": false,
    "scrolled": false
   },
   "outputs": [
    {
     "name": "stdout",
     "output_type": "stream",
     "text": [
      "simulatehoneycomb: 0.50 [s]\n"
     ]
    },
    {
     "data": {
      "image/png": "[encoded data removed]",
      "text/plain": [
       "<matplotlib.figure.Figure at 0x12085eb00>"
      ]
     },
     "metadata": {},
     "output_type": "display_data"
    }
   ],
   "source": [
    "DotSystem.simulate_honeycomb(gate_matrix)\n",
    "\n",
    "plt.pcolor(sweepx,sweepy,DotSystem.honeycomb)\n",
    "plt.colorbar()\n",
    "plt.show()"
   ]
  },
  {
   "cell_type": "code",
   "execution_count": 17,
   "metadata": {
    "collapsed": false
   },
   "outputs": [],
   "source": [
    "corner1 = ref_value - 0.2*M - 5/3 * (L+M+R)"
   ]
  },
  {
   "cell_type": "code",
   "execution_count": 18,
   "metadata": {
    "collapsed": false
   },
   "outputs": [
    {
     "data": {
      "text/plain": [
       "array([ 114.02222222,  -14.88888889,  114.02222222])"
      ]
     },
     "execution_count": 18,
     "metadata": {},
     "output_type": "execute_result"
    }
   ],
   "source": [
    "corner1"
   ]
  },
  {
   "cell_type": "markdown",
   "metadata": {},
   "source": [
    "### Intersection: 012, 021, 111"
   ]
  },
  {
   "cell_type": "code",
   "execution_count": 13,
   "metadata": {
    "collapsed": false
   },
   "outputs": [
    {
     "name": "stdout",
     "output_type": "stream",
     "text": [
      "simulatehoneycomb: 0.50 [s]\n"
     ]
    },
    {
     "data": {
      "image/png": "[encoded data removed]",
      "text/plain": [
       "<matplotlib.figure.Figure at 0x12087d6d8>"
      ]
     },
     "metadata": {},
     "output_type": "display_data"
    }
   ],
   "source": [
    "P1 = 45-30+10\n",
    "P2 = 103-18\n",
    "P3 = 45+30+10+8\n",
    "\n",
    "ref_pt = [0.5, 0.5]\n",
    "ref_value = [P1, P2, P3]\n",
    "\n",
    "L = np.linalg.solve(DotSystem.alpha, np.array([1,0,0]))\n",
    "M = np.linalg.solve(DotSystem.alpha, np.array([0,1,0]))\n",
    "R = np.linalg.solve(DotSystem.alpha, np.array([0,0,1]))\n",
    "\n",
    "# M\n",
    "dirVecX = M\n",
    "# filling: (L + M + R)/3\n",
    "dirVecY = (L + M + R)/3\n",
    "\n",
    "rangeX = 10\n",
    "rangeY = 10\n",
    "\n",
    "pointsX = 150\n",
    "pointsY = 150\n",
    "\n",
    "sweepx = np.linspace(-rangeX/2,rangeX/2,pointsX)\n",
    "sweepy = np.linspace(-rangeY/2,rangeY/2,pointsY)\n",
    "\n",
    "gate_matrix=create_all_gate_matrix(ref_pt, ref_value, dirVecX, dirVecY, rangeX, rangeY, pointsX, pointsY)\n",
    "\n",
    "DotSystem.simulate_honeycomb(gate_matrix)\n",
    "plt.pcolor(sweepx,sweepy,DotSystem.honeycomb)\n",
    "plt.colorbar()\n",
    "plt.show()"
   ]
  },
  {
   "cell_type": "code",
   "execution_count": 14,
   "metadata": {
    "collapsed": false
   },
   "outputs": [
    {
     "data": {
      "text/plain": [
       "array([ 25.98733333,  83.05366667,  93.98733333])"
      ]
     },
     "execution_count": 14,
     "metadata": {},
     "output_type": "execute_result"
    }
   ],
   "source": [
    "corner3 = ref_value - 1.22*M + 0.783/3 * (L+M+R)\n",
    "corner3"
   ]
  },
  {
   "cell_type": "code",
   "execution_count": 20,
   "metadata": {
    "collapsed": false
   },
   "outputs": [
    {
     "name": "stdout",
     "output_type": "stream",
     "text": [
      "simulatehoneycomb: 0.59 [s]\n"
     ]
    },
    {
     "data": {
      "image/png": "[encoded data removed]",
      "text/plain": [
       "<matplotlib.figure.Figure at 0x12085ec88>"
      ]
     },
     "metadata": {},
     "output_type": "display_data"
    }
   ],
   "source": [
    "ref_value = corner1\n",
    "rangeX = 75\n",
    "rangeY = 125\n",
    "pointsX = 150\n",
    "pointsY = 150\n",
    "# \\epsilon = L - R\n",
    "dirVecX = L - R\n",
    "# \\delta = M - (L+R)/2\n",
    "dirVecY = M - L/2 - R/2\n",
    "\n",
    "#end_points_x = calculate_end_points(ref_pt,ref_value[0],dirVecX[0],dirVecY[0],rangeX,rangeY)\n",
    "#sweepx = np.linspace(end_points_x[0], end_points_x[1], pointsX)\n",
    "\n",
    "#end_points_y = calculate_end_points(ref_pt,ref_value[2],dirVecX[2],dirVecY[2],rangeX,rangeY)\n",
    "#sweepy = np.linspace(end_points_y[0], end_points_y[2], pointsY)\n",
    "\n",
    "sweepx = np.linspace(-rangeX/2,rangeX/2,pointsX)\n",
    "sweepy = np.linspace(-rangeY/2,rangeY/2,pointsY)\n",
    "\n",
    "gate_matrix=create_all_gate_matrix(ref_pt, ref_value, dirVecX, dirVecY, rangeX, rangeY, pointsX, pointsY)\n",
    "\n",
    "DotSystem.simulate_honeycomb(gate_matrix)\n",
    "\n",
    "plt.pcolor(sweepx,sweepy,DotSystem.honeycomb)\n",
    "plt.colorbar()\n",
    "plt.plot(0, 0, 'yo')\n",
    "plt.annotate(np.array_str(charge_state), xy = (0, 0), color = 'y')\n",
    "plt.show()"
   ]
  },
  {
   "cell_type": "markdown",
   "metadata": {},
   "source": [
    "### Intersection: 120, 210, 111"
   ]
  },
  {
   "cell_type": "code",
   "execution_count": 56,
   "metadata": {
    "collapsed": false
   },
   "outputs": [
    {
     "name": "stdout",
     "output_type": "stream",
     "text": [
      "simulatehoneycomb: 10.19 [s]\n"
     ]
    },
    {
     "data": {
      "image/png": "[encoded data removed]",
      "text/plain": [
       "<matplotlib.figure.Figure at 0x1203bc518>"
      ]
     },
     "metadata": {},
     "output_type": "display_data"
    }
   ],
   "source": [
    "P1 = 95.5\n",
    "P2 = 83\n",
    "P3 = 26\n",
    "ref_pt = [0.5, 0.5]\n",
    "ref_value = [P1, P2, P3]\n",
    "dirVecY = [0.0, 0.0, 1.0]\n",
    "dirVecX = [1.0, 0.0, 0.0]\n",
    "rangeX = 100\n",
    "rangeY = 100\n",
    "pointsX = 150\n",
    "pointsY = 150\n",
    "\n",
    "end_points_x = calculate_end_points(ref_pt,ref_value[0],dirVecX[0],dirVecY[0],rangeX,rangeY)\n",
    "sweepx = np.linspace(end_points_x[0], end_points_x[1], pointsX)\n",
    "\n",
    "end_points_y = calculate_end_points(ref_pt,ref_value[2],dirVecX[2],dirVecY[2],rangeX,rangeY)\n",
    "sweepy = np.linspace(end_points_y[0], end_points_y[2], pointsY)\n",
    "\n",
    "gate_matrix=create_all_gate_matrix(ref_pt, ref_value, dirVecX, dirVecY, rangeX, rangeY, pointsX, pointsY)\n",
    "\n",
    "centre_value = np.array([P1,P2,P3])\n",
    "charge_state = DotSystem.calculate_ground_state(centre_value)\n",
    "\n",
    "DotSystem.simulate_honeycomb(gate_matrix)\n",
    "\n",
    "plt.pcolor(sweepx,sweepy,DotSystem.honeycomb)\n",
    "plt.colorbar()\n",
    "plt.plot(centre_value[0], centre_value[2], 'yo')\n",
    "plt.annotate(np.array_str(charge_state), xy = (centre_value[0], centre_value[2]), color = 'y')\n",
    "plt.show()"
   ]
  },
  {
   "cell_type": "code",
   "execution_count": 57,
   "metadata": {
    "collapsed": false
   },
   "outputs": [
    {
     "name": "stdout",
     "output_type": "stream",
     "text": [
      "simulatehoneycomb: 10.15 [s]\n"
     ]
    },
    {
     "data": {
      "image/png": "[encoded data removed]",
      "text/plain": [
       "<matplotlib.figure.Figure at 0x1203bc978>"
      ]
     },
     "metadata": {},
     "output_type": "display_data"
    }
   ],
   "source": [
    "# M\n",
    "dirVecX = M\n",
    "# filling: (L + M + R)/3\n",
    "dirVecY = (L + M + R)/3\n",
    "\n",
    "rangeX = 50\n",
    "rangeY = 50\n",
    "\n",
    "pointsX = 150\n",
    "pointsY = 150\n",
    "\n",
    "sweepx = np.linspace(-rangeX/2,rangeX/2,pointsX)\n",
    "sweepy = np.linspace(-rangeY/2,rangeY/2,pointsY)\n",
    "\n",
    "gate_matrix=create_all_gate_matrix(ref_pt, ref_value, dirVecX, dirVecY, rangeX, rangeY, pointsX, pointsY)\n",
    "\n",
    "DotSystem.simulate_honeycomb(gate_matrix)\n",
    "plt.pcolor(sweepx,sweepy,DotSystem.honeycomb)\n",
    "plt.colorbar()\n",
    "plt.show()"
   ]
  },
  {
   "cell_type": "code",
   "execution_count": 49,
   "metadata": {
    "collapsed": false
   },
   "outputs": [
    {
     "data": {
      "text/plain": [
       "array([ 95.31511111,  82.45155556,  25.81511111])"
      ]
     },
     "execution_count": 49,
     "metadata": {},
     "output_type": "execute_result"
    }
   ],
   "source": [
    "corner2 = ref_value - 0.228*M - 1.516/3 * (L+M+R)\n",
    "corner2"
   ]
  },
  {
   "cell_type": "markdown",
   "metadata": {},
   "source": [
    "### 3 corners -> plane"
   ]
  },
  {
   "cell_type": "code",
   "execution_count": 60,
   "metadata": {
    "collapsed": false
   },
   "outputs": [
    {
     "data": {
      "text/plain": [
       "array([ 6689.02489162,  7390.50833334,  6737.1329424 ])"
      ]
     },
     "execution_count": 60,
     "metadata": {},
     "output_type": "execute_result"
    }
   ],
   "source": [
    "corner1 = np.array([ 114.02222222,  -14.88888889,  114.02222222])\n",
    "corner2 = np.array([ 95.31511111,  82.45155556,  25.81511111])\n",
    "corner3 = np.array([ 25.98733333,  83.05366667,  93.98733333])\n",
    "\n",
    "np.cross(corner2-corner1,corner3-corner1)"
   ]
  },
  {
   "cell_type": "code",
   "execution_count": 81,
   "metadata": {
    "collapsed": false
   },
   "outputs": [
    {
     "name": "stdout",
     "output_type": "stream",
     "text": [
      "simulatehoneycomb: 10.20 [s]\n"
     ]
    },
    {
     "data": {
      "image/png": "[encoded data removed]",
      "text/plain": [
       "<matplotlib.figure.Figure at 0x125744e48>"
      ]
     },
     "metadata": {},
     "output_type": "display_data"
    }
   ],
   "source": [
    "corner1 = np.array([ 114.02222222,  -13,  114.02222222])\n",
    "ref_value = corner1\n",
    "rangeX = 125\n",
    "rangeY = 125\n",
    "pointsX = 150\n",
    "pointsY = 150\n",
    "# \\epsilon = L - R\n",
    "dirVecX = L - R\n",
    "# \\delta = M - (L+R)/2\n",
    "dirVecY = M - L/2 - R/2\n",
    "\n",
    "#end_points_x = calculate_end_points(ref_pt,ref_value[0],dirVecX[0],dirVecY[0],rangeX,rangeY)\n",
    "#sweepx = np.linspace(end_points_x[0], end_points_x[1], pointsX)\n",
    "\n",
    "#end_points_y = calculate_end_points(ref_pt,ref_value[2],dirVecX[2],dirVecY[2],rangeX,rangeY)\n",
    "#sweepy = np.linspace(end_points_y[0], end_points_y[2], pointsY)\n",
    "\n",
    "sweepx = np.linspace(-rangeX/2,rangeX/2,pointsX)\n",
    "sweepy = np.linspace(-rangeY/2,rangeY/2,pointsY)\n",
    "\n",
    "gate_matrix=create_all_gate_matrix(ref_pt, ref_value, dirVecX, dirVecY, rangeX, rangeY, pointsX, pointsY)\n",
    "\n",
    "DotSystem.simulate_honeycomb(gate_matrix)\n",
    "\n",
    "plt.pcolor(sweepx,sweepy,DotSystem.honeycomb)\n",
    "plt.colorbar()\n",
    "plt.plot(0, 0, 'yo')\n",
    "plt.plot(24, 42, 'yo')\n",
    "plt.plot(-24, 42, 'yo')\n",
    "charge_state1 = DotSystem.calculate_ground_state(corner1)\n",
    "charge_state2 = DotSystem.calculate_ground_state(corner2)\n",
    "charge_state3 = DotSystem.calculate_ground_state(corner3)\n",
    "plt.annotate(np.array_str(charge_state1), xy = (0, 0), color = 'y')\n",
    "plt.annotate(np.array_str(charge_state2), xy = (24, 42), color = 'y')\n",
    "plt.annotate(np.array_str(charge_state3), xy = (-24, 42), color = 'y')\n",
    "plt.show()"
   ]
  },
  {
   "cell_type": "code",
   "execution_count": 70,
   "metadata": {
    "collapsed": false
   },
   "outputs": [
    {
     "data": {
      "text/plain": [
       "-32.034888890000005"
      ]
     },
     "execution_count": 70,
     "metadata": {},
     "output_type": "execute_result"
    }
   ],
   "source": [
    "corner3[0] - 58.02222222"
   ]
  },
  {
   "cell_type": "code",
   "execution_count": 71,
   "metadata": {
    "collapsed": false
   },
   "outputs": [
    {
     "data": {
      "text/plain": [
       "-24.026249999999997"
      ]
     },
     "execution_count": 71,
     "metadata": {},
     "output_type": "execute_result"
    }
   ],
   "source": [
    "-32.035/(L[0] - R[0])"
   ]
  },
  {
   "cell_type": "code",
   "execution_count": 74,
   "metadata": {
    "collapsed": false
   },
   "outputs": [
    {
     "data": {
      "text/plain": [
       "array([ 26.02222222,  83.11111111,  90.02222222])"
      ]
     },
     "execution_count": 74,
     "metadata": {},
     "output_type": "execute_result"
    }
   ],
   "source": [
    "corner1+42*(M-L/2-R/2)-24*(L-R)"
   ]
  },
  {
   "cell_type": "code",
   "execution_count": 75,
   "metadata": {
    "collapsed": false
   },
   "outputs": [
    {
     "data": {
      "text/plain": [
       "array([ 90.02222222,  83.11111111,  26.02222222])"
      ]
     },
     "execution_count": 75,
     "metadata": {},
     "output_type": "execute_result"
    }
   ],
   "source": [
    "corner1+42*(M-L/2-R/2)+24*(L-R)"
   ]
  },
  {
   "cell_type": "code",
   "execution_count": null,
   "metadata": {
    "collapsed": true
   },
   "outputs": [],
   "source": []
  }
 ],
 "metadata": {
  "anaconda-cloud": {},
  "kernelspec": {
   "display_name": "Python [conda env:Qcodes-dev-3.5]",
   "language": "python",
   "name": "conda-env-Qcodes-dev-3.5-py"
  },
  "language_info": {
   "codemirror_mode": {
    "name": "ipython",
    "version": 3
   },
   "file_extension": ".py",
   "mimetype": "text/x-python",
   "name": "python",
   "nbconvert_exporter": "python",
   "pygments_lexer": "ipython3",
   "version": "3.5.0"
  }
 },
 "nbformat": 4,
 "nbformat_minor": 0
}
