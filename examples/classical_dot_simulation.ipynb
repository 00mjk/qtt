{
 "cells": [
  {
   "cell_type": "markdown",
   "metadata": {},
   "source": [
    "## Some examples for testing the `ClassicalDotSystem` class"
   ]
  },
  {
   "cell_type": "code",
   "execution_count": 1,
   "metadata": {
    "collapsed": false
   },
   "outputs": [
    {
     "name": "stdout",
     "output_type": "stream",
     "text": [
      "PyQt4 (API v2)\n"
     ]
    },
    {
     "data": {
      "application/javascript": [
       "/*\n",
       " * Qcodes Jupyter/IPython widgets\n",
       " */\n",
       "require([\n",
       "    'nbextensions/widgets/widgets/js/widget',\n",
       "    'nbextensions/widgets/widgets/js/manager'\n",
       "], function (widget, manager) {\n",
       "\n",
       "    var UpdateView = widget.DOMWidgetView.extend({\n",
       "        render: function() {\n",
       "            window.MYWIDGET = this;\n",
       "            this._interval = 0;\n",
       "            this.update();\n",
       "        },\n",
       "        update: function() {\n",
       "            this.display(this.model.get('_message'));\n",
       "            this.setInterval();\n",
       "        },\n",
       "        display: function(message) {\n",
       "            /*\n",
       "             * display method: override this for custom display logic\n",
       "             */\n",
       "            this.el.innerHTML = message;\n",
       "        },\n",
       "        remove: function() {\n",
       "            clearInterval(this._updater);\n",
       "        },\n",
       "        setInterval: function(newInterval) {\n",
       "            var me = this;\n",
       "            if(newInterval===undefined) newInterval = me.model.get('interval');\n",
       "            if(newInterval===me._interval) return;\n",
       "\n",
       "            me._interval = newInterval;\n",
       "\n",
       "            if(me._updater) clearInterval(me._updater);\n",
       "\n",
       "            if(me._interval) {\n",
       "                me._updater = setInterval(function() {\n",
       "                    me.send({myupdate: true});\n",
       "                    if(!me.model.comm_live) {\n",
       "                        console.log('missing comm, canceling widget updates', me);\n",
       "                        clearInterval(me._updater);\n",
       "                    }\n",
       "                }, me._interval * 1000);\n",
       "            }\n",
       "        }\n",
       "    });\n",
       "    manager.WidgetManager.register_widget_view('UpdateView', UpdateView);\n",
       "\n",
       "    var HiddenUpdateView = UpdateView.extend({\n",
       "        display: function(message) {\n",
       "            this.$el.hide();\n",
       "        }\n",
       "    });\n",
       "    manager.WidgetManager.register_widget_view('HiddenUpdateView', HiddenUpdateView);\n",
       "\n",
       "    var SubprocessView = UpdateView.extend({\n",
       "        render: function() {\n",
       "            var me = this;\n",
       "            me._interval = 0;\n",
       "            me._minimize = '<i class=\"fa-minus fa\"></i>';\n",
       "            me._restore = '<i class=\"fa-plus fa\"></i>';\n",
       "\n",
       "            // max lines of output to show\n",
       "            me.maxOutputLength = 500;\n",
       "\n",
       "            // in case there is already an outputView present,\n",
       "            // like from before restarting the kernel\n",
       "            $('.qcodes-output-view').not(me.$el).remove();\n",
       "\n",
       "            me.$el\n",
       "                .addClass('qcodes-output-view')\n",
       "                .attr('qcodes-state', 'docked')\n",
       "                .html(\n",
       "                    '<div class=\"qcodes-output-header toolbar\">' +\n",
       "                        '<div class=\"qcodes-process-list\"></div>' +\n",
       "                        '<button class=\"btn qcodes-processlines\"><i class=\"fa-list fa\"></i></button>' +\n",
       "                        '<button class=\"btn qcodes-abort-loop disabled\">Abort</button>' +\n",
       "                        '<button class=\"btn qcodes-clear-output disabled qcodes-content\">Clear</button>' +\n",
       "                        '<button class=\"btn js-state qcodes-minimized\"><i class=\"fa-minus fa\"></i></button>' +\n",
       "                        '<button class=\"btn js-state qcodes-docked\"><i class=\"fa-toggle-up fa\"></i></button>' +\n",
       "                        '<button class=\"btn js-state qcodes-floated\"><i class=\"fa-arrows fa\"></i></button>' +\n",
       "                    '</div>' +\n",
       "                    '<pre class=\"qcodes-content\"></pre>'\n",
       "                );\n",
       "\n",
       "            me.clearButton = me.$el.find('.qcodes-clear-output');\n",
       "            me.minButton = me.$el.find('.qcodes-minimize');\n",
       "            me.outputArea = me.$el.find('pre');\n",
       "            me.subprocessList = me.$el.find('.qcodes-process-list');\n",
       "            me.abortButton = me.$el.find('.qcodes-abort-loop');\n",
       "            me.processLinesButton = me.$el.find('.qcodes-processlines')\n",
       "\n",
       "            me.outputLines = [];\n",
       "\n",
       "            me.clearButton.click(function() {\n",
       "                me.outputArea.html('');\n",
       "                me.clearButton.addClass('disabled');\n",
       "            });\n",
       "\n",
       "            me.abortButton.click(function() {\n",
       "                me.send({abort: true});\n",
       "            });\n",
       "\n",
       "            me.processLinesButton.click(function() {\n",
       "                // toggle multiline process list display\n",
       "                me.subprocessesMultiline = !me.subprocessesMultiline;\n",
       "                me.showSubprocesses();\n",
       "            });\n",
       "\n",
       "            me.$el.find('.js-state').click(function() {\n",
       "                var state = this.className.substr(this.className.indexOf('qcodes'))\n",
       "                        .split('-')[1].split(' ')[0];\n",
       "                me.model.set('_state', state);\n",
       "            });\n",
       "\n",
       "            $(window)\n",
       "                .off('resize.qcodes')\n",
       "                .on('resize.qcodes', function() {me.clipBounds();});\n",
       "\n",
       "            me.update();\n",
       "        },\n",
       "\n",
       "        updateState: function() {\n",
       "            var me = this,\n",
       "                oldState = me.$el.attr('qcodes-state'),\n",
       "                state = me.model.get('_state');\n",
       "\n",
       "            if(state === oldState) return;\n",
       "\n",
       "            setTimeout(function() {\n",
       "                // not sure why I can't pop it out of the widgetarea in render, but it seems that\n",
       "                // some other bit of code resets the parent after render if I do it there.\n",
       "                // To be safe, just do it on every state click.\n",
       "                me.$el.appendTo('body');\n",
       "\n",
       "                if(oldState === 'floated') {\n",
       "                    console.log('here');\n",
       "                    me.$el.draggable('destroy').css({left:'', top: ''});\n",
       "                }\n",
       "\n",
       "                me.$el.attr('qcodes-state', state);\n",
       "\n",
       "                if(state === 'floated') {\n",
       "                    me.$el\n",
       "                        .draggable({stop: function() { me.clipBounds(); }})\n",
       "                        .css({\n",
       "                            left: window.innerWidth - me.$el.width() - 15,\n",
       "                            top: window.innerHeight - me.$el.height() - 10\n",
       "                        });\n",
       "                }\n",
       "\n",
       "                // any previous highlighting is now moot\n",
       "                me.$el.removeClass('qcodes-highlight');\n",
       "            }, 0);\n",
       "\n",
       "        },\n",
       "\n",
       "        clipBounds: function() {\n",
       "            var me = this;\n",
       "            if(me.$el.attr('qcodes-state') === 'floated') {\n",
       "                var bounds = me.$el[0].getBoundingClientRect(),\n",
       "                    minVis = 40,\n",
       "                    maxLeft = window.innerWidth - minVis,\n",
       "                    minLeft = minVis - bounds.width,\n",
       "                    maxTop = window.innerHeight - minVis;\n",
       "\n",
       "                if(bounds.left > maxLeft) me.$el.css('left', maxLeft);\n",
       "                else if(bounds.left < minLeft) me.$el.css('left', minLeft);\n",
       "\n",
       "                if(bounds.top > maxTop) me.$el.css('top', maxTop);\n",
       "                else if(bounds.top < 0) me.$el.css('top', 0);\n",
       "            }\n",
       "        },\n",
       "\n",
       "        display: function(message) {\n",
       "            var me = this;\n",
       "            if(message) {\n",
       "                var initialScroll = me.outputArea.scrollTop();\n",
       "                me.outputArea.scrollTop(me.outputArea.prop('scrollHeight'));\n",
       "                var scrollBottom = me.outputArea.scrollTop();\n",
       "\n",
       "                if(me.$el.attr('qcodes-state') === 'minimized') {\n",
       "                    // if we add text and the box is minimized, highlight the\n",
       "                    // title bar to alert the user that there are new messages.\n",
       "                    // remove then add the class, so we get the animation again\n",
       "                    // if it's already highlighted\n",
       "                    me.$el.removeClass('qcodes-highlight');\n",
       "                    setTimeout(function(){\n",
       "                        me.$el.addClass('qcodes-highlight');\n",
       "                    }, 0);\n",
       "                }\n",
       "\n",
       "                var newLines = message.split('\\n'),\n",
       "                    out = me.outputLines,\n",
       "                    outLen = out.length;\n",
       "                if(outLen) out[outLen - 1] += newLines[0];\n",
       "                else out.push(newLines[0]);\n",
       "\n",
       "                for(var i = 1; i < newLines.length; i++) {\n",
       "                    out.push(newLines[i]);\n",
       "                }\n",
       "\n",
       "                if(out.length > me.maxOutputLength) {\n",
       "                    out.splice(0, out.length - me.maxOutputLength + 1,\n",
       "                        '<<< Output clipped >>>');\n",
       "                }\n",
       "\n",
       "                me.outputArea.text(out.join('\\n'));\n",
       "                me.clearButton.removeClass('disabled');\n",
       "\n",
       "                // if we were scrolled to the bottom initially, make sure\n",
       "                // we stay that way.\n",
       "                me.outputArea.scrollTop(initialScroll === scrollBottom ?\n",
       "                    me.outputArea.prop('scrollHeight') : initialScroll);\n",
       "            }\n",
       "\n",
       "            me.showSubprocesses();\n",
       "            me.updateState();\n",
       "        },\n",
       "\n",
       "        showSubprocesses: function() {\n",
       "            var me = this,\n",
       "                replacer = me.subprocessesMultiline ? '<br>' : ', ',\n",
       "                processes = (me.model.get('_processes') || '')\n",
       "                    .replace(/\\n/g, '&gt;' + replacer + '&lt;');\n",
       "\n",
       "            if(processes) processes = '&lt;' + processes + '&gt;';\n",
       "            else processes = 'No subprocesses';\n",
       "\n",
       "            me.abortButton.toggleClass('disabled', processes.indexOf('Measurement')===-1);\n",
       "\n",
       "            me.subprocessList.html(processes);\n",
       "        }\n",
       "    });\n",
       "    manager.WidgetManager.register_widget_view('SubprocessView', SubprocessView);\n",
       "});\n"
      ],
      "text/plain": [
       "<IPython.core.display.Javascript object>"
      ]
     },
     "metadata": {},
     "output_type": "display_data"
    },
    {
     "data": {
      "text/html": [
       "<style>.qcodes-output-view:not(.ui-draggable) {\n",
       "    bottom: 0;\n",
       "    right: 5px;\n",
       "}\n",
       ".qcodes-output-view {\n",
       "    position: fixed;\n",
       "    z-index: 999;\n",
       "    background-color: #fff;\n",
       "    box-shadow: 0 0 12px 1px rgba(87, 87, 87, 0.2);\n",
       "}\n",
       "\n",
       ".qcodes-output-header {\n",
       "    float: right;\n",
       "}\n",
       "\n",
       ".qcodes-highlight {\n",
       "    animation: pulse 1s linear;\n",
       "    background-color: #fa4;\n",
       "}\n",
       "\n",
       "@keyframes pulse {\n",
       "    0% {\n",
       "        background-color: #f00;\n",
       "    }\n",
       "    100% {\n",
       "        background-color: #fa4;\n",
       "    }\n",
       "}\n",
       "\n",
       ".qcodes-process-list {\n",
       "    float: left;\n",
       "    max-width: 780px;\n",
       "    margin: 3px 5px 3px 10px;\n",
       "    overflow: hidden;\n",
       "    white-space: nowrap;\n",
       "    text-overflow: ellipsis;\n",
       "}\n",
       "\n",
       ".qcodes-output-view[qcodes-state=minimized] .qcodes-process-list {\n",
       "    max-width: 300px;\n",
       "}\n",
       "\n",
       ".qcodes-output-view span {\n",
       "    padding: 2px 6px 3px 12px;\n",
       "}\n",
       "\n",
       ".qcodes-output-view .btn {\n",
       "    margin: 0 3px 0 0;\n",
       "}\n",
       "\n",
       ".qcodes-output-view[qcodes-state=docked] .qcodes-docked,\n",
       ".qcodes-output-view[qcodes-state=floated] .qcodes-floated,\n",
       ".qcodes-output-view[qcodes-state=minimized] .qcodes-minimized,\n",
       ".qcodes-output-view[qcodes-state=minimized] .qcodes-content {\n",
       "    display: none;\n",
       "}\n",
       "\n",
       ".qcodes-output-view .disabled {\n",
       "    opacity: 0.4;\n",
       "}\n",
       "\n",
       ".qcodes-abort-loop {\n",
       "    background-color: #844;\n",
       "    color: #fff;\n",
       "}\n",
       "\n",
       ".qcodes-output-view pre {\n",
       "    clear: both;\n",
       "    margin: 0;\n",
       "    border: 0;\n",
       "    border-top: 1px solid #ccc;\n",
       "    background-color: #ffe;\n",
       "    min-height: 50px;\n",
       "    max-height: 400px;\n",
       "    min-width: 400px;\n",
       "    max-width: 1000px;\n",
       "}</style>"
      ],
      "text/plain": [
       "<IPython.core.display.HTML object>"
      ]
     },
     "metadata": {},
     "output_type": "display_data"
    }
   ],
   "source": [
    "import numpy as np\n",
    "from qtt.simulation.classicaldotsystem import ClassicalDotSystem, TripleDot"
   ]
  },
  {
   "cell_type": "code",
   "execution_count": 2,
   "metadata": {
    "collapsed": false
   },
   "outputs": [],
   "source": [
    "test_dot = TripleDot()"
   ]
  },
  {
   "cell_type": "code",
   "execution_count": 3,
   "metadata": {
    "collapsed": false
   },
   "outputs": [
    {
     "data": {
      "text/plain": [
       "array([0, 0, 0])"
      ]
     },
     "execution_count": 3,
     "metadata": {},
     "output_type": "execute_result"
    }
   ],
   "source": [
    "temp_state = test_dot.calculate_ground_state(np.array([0,0,0]))\n",
    "temp_state"
   ]
  },
  {
   "cell_type": "code",
   "execution_count": 4,
   "metadata": {
    "collapsed": false
   },
   "outputs": [
    {
     "name": "stdout",
     "output_type": "stream",
     "text": [
      "simulatehoneycomb: 14.8 [s]\n"
     ]
    }
   ],
   "source": [
    "# make a test gate plane\n",
    "nx = 150\n",
    "ny = 150\n",
    "test2Dparams = np.zeros((3,nx,ny))\n",
    "sweepx = np.linspace(0, 300, nx)\n",
    "sweepy = np.linspace(0, 1, ny)\n",
    "xv, yv = np.meshgrid(sweepx, sweepy)\n",
    "test2Dparams[0] = xv+yv\n",
    "xv, yv = np.meshgrid(sweepy, sweepx)\n",
    "test2Dparams[1] = xv+yv\n",
    "\n",
    "# run the honeycomb simulation\n",
    "test_dot.simulate_honeycomb(test2Dparams, multiprocess=True)"
   ]
  },
  {
   "cell_type": "code",
   "execution_count": 5,
   "metadata": {
    "collapsed": false
   },
   "outputs": [
    {
     "data": {
      "image/png": "[encoded data removed]",
      "text/plain": [
       "<matplotlib.figure.Figure at 0x1209b4668>"
      ]
     },
     "metadata": {},
     "output_type": "display_data"
    }
   ],
   "source": [
    "%matplotlib inline\n",
    "import matplotlib.pyplot as plt\n",
    "\n",
    "plt.pcolor(sweepx,sweepy,test_dot.honeycomb)\n",
    "plt.colorbar()\n",
    "plt.show()"
   ]
  },
  {
   "cell_type": "code",
   "execution_count": 6,
   "metadata": {
    "collapsed": false
   },
   "outputs": [],
   "source": [
    "class TestDot(ClassicalDotSystem):\n",
    "    def __init__(self, name='testdot', **kwargs):\n",
    "        super().__init__(name=name, ndots=3, ngates=3, maxelectrons=2, **kwargs)\n",
    "\n",
    "        self.makebasis()\n",
    "\n",
    "        vardict = {}\n",
    "\n",
    "        vardict[\"mu0_values\"] = np.array([-27.0, -20.0, -25.0])  # chemical potential at zero gate voltage\n",
    "        vardict[\"Eadd_values\"] = np.array([54.0, 52.8, 54.0])  # addition energy\n",
    "        vardict[\"W_values\"] = np.array([12.0, 5.0, 10.0])  # coulomb repulsion (!order is important: (1,2), (1,3), (2,3)) (lexicographic ordering)\n",
    "        vardict[\"alpha_values\"] = np.array([[1.0, 0.25, 0.1],\n",
    "                                 [0.25, 1.0, 0.25],\n",
    "                                 [0.1, 0.25, 1.0]])\n",
    "\n",
    "        for name in self.varnames:\n",
    "            setattr(self, name, vardict[name+'_values'])"
   ]
  },
  {
   "cell_type": "code",
   "execution_count": 7,
   "metadata": {
    "collapsed": false
   },
   "outputs": [
    {
     "name": "stdout",
     "output_type": "stream",
     "text": [
      "simulatehoneycomb: 3.2 [s]\n"
     ]
    }
   ],
   "source": [
    "test_dot_2 = TestDot()\n",
    "\n",
    "# make a test gate plane\n",
    "nx = 100\n",
    "ny = 100\n",
    "test2Dparams = np.zeros((3,nx,ny))\n",
    "sweepx = np.linspace(0, 200, nx)\n",
    "sweepy = np.linspace(0, 1, ny)\n",
    "xv, yv = np.meshgrid(sweepx, sweepy)\n",
    "test2Dparams[0] = xv+yv\n",
    "xv, yv = np.meshgrid(sweepy, sweepx)\n",
    "test2Dparams[1] = xv+yv\n",
    "\n",
    "# run the honeycomb simulation\n",
    "test_dot_2.simulate_honeycomb(test2Dparams)"
   ]
  },
  {
   "cell_type": "code",
   "execution_count": 8,
   "metadata": {
    "collapsed": false
   },
   "outputs": [
    {
     "data": {
      "image/png": "[encoded data removed]",
      "text/plain": [
       "<matplotlib.figure.Figure at 0x12099d780>"
      ]
     },
     "metadata": {},
     "output_type": "display_data"
    }
   ],
   "source": [
    "%matplotlib inline\n",
    "import matplotlib.pyplot as plt\n",
    "\n",
    "plt.pcolor(sweepx,sweepy,test_dot_2.honeycomb)\n",
    "plt.colorbar()\n",
    "plt.show()"
   ]
  },
  {
   "cell_type": "code",
   "execution_count": null,
   "metadata": {
    "collapsed": true
   },
   "outputs": [],
   "source": []
  }
 ],
 "metadata": {
  "kernelspec": {
   "display_name": "Python 3",
   "language": "python",
   "name": "python3"
  },
  "language_info": {
   "codemirror_mode": {
    "name": "ipython",
    "version": 3
   },
   "file_extension": ".py",
   "mimetype": "text/x-python",
   "name": "python",
   "nbconvert_exporter": "python",
   "pygments_lexer": "ipython3",
   "version": "3.5.2"
  }
 },
 "nbformat": 4,
 "nbformat_minor": 0
}
