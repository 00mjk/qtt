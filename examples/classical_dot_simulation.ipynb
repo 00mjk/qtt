{
 "cells": [
  {
   "cell_type": "code",
   "execution_count": 39,
   "metadata": {
    "collapsed": true
   },
   "outputs": [],
   "source": [
    "import itertools\n",
    "import numpy as np\n",
    "\n",
    "\n",
    "class ClassicalDotSystem:\n",
    "\n",
    "    def __init__(self, name='dotsystem', ndots=3, ngates=3, maxelectrons=3, **kwargs):\n",
    "        self.name = name\n",
    "        self.ndots = ndots\n",
    "        self.ngates = ngates\n",
    "        self.maxelectrons = maxelectrons\n",
    "\n",
    "        # initialize attributes that are set later on\n",
    "        self.basis = None   # basis of charge states\n",
    "        self.nbasis = None  # corresponding total occupancy (for each charge state)\n",
    "        self.Nt = None      # total number of charge states\n",
    "\n",
    "    def makebasis(self):\n",
    "        \"\"\" Define a basis of occupancy states \"\"\"\n",
    "        basis = list(itertools.product(range(self.maxelectrons + 1), repeat=self.ndots))\n",
    "        basis = np.asarray(sorted(basis, key=lambda x: sum(x)))\n",
    "        self.basis = np.ndarray.astype(basis, int)\n",
    "        self.nbasis = np.sum(self.basis, axis=1)\n",
    "        self.Nt = len(self.nbasis)\n",
    "\n",
    "    def makevars(self, varnames):\n",
    "        \"\"\" Create the variables that characterize the dot system \"\"\"\n",
    "        self.varnames = varnames\n",
    "        for name in self.varnames:\n",
    "            exec('self.' + name + ' = np.zeros((self.ndots,))')\n",
    "\n",
    "\n",
    "class TripleDot(ClassicalDotSystem):\n",
    "\n",
    "    def __init__(self, name='tripledot', **kwargs):\n",
    "        super().__init__(name=name, ndots=3, ngates=3, **kwargs)\n",
    "\n",
    "        self.makebasis()\n",
    "\n",
    "        varnames = ['mu0', 'Eadd', 'W']\n",
    "        varnames += ['alpha%d' % (i+1) for i in range(self.ndots)]\n",
    "        self.makevars(varnames)\n",
    "\n",
    "        mu0_values = np.array([-27.0, -20.0, -25.0])\n",
    "        Eadd_values = np.array([54.0, 52.8, 54.0])\n",
    "        W_values = np.array([6.0, 5.0, 1.0])\n",
    "        alpha1_values = np.array([1.0, 0.25, 0.1])\n",
    "        alpha2_values = np.array([0.25, 1.0, 0.25])\n",
    "        alpha3_values = np.array([0.1, 0.25, 1.0])\n",
    "\n",
    "        for name in self.varnames:\n",
    "            exec('self.' + name + ' = ' + name + '_values')"
   ]
  },
  {
   "cell_type": "code",
   "execution_count": 40,
   "metadata": {
    "collapsed": false
   },
   "outputs": [],
   "source": [
    "test_dot = TripleDot()"
   ]
  },
  {
   "cell_type": "code",
   "execution_count": 41,
   "metadata": {
    "collapsed": false
   },
   "outputs": [
    {
     "data": {
      "text/plain": [
       "array([-27., -20., -25.])"
      ]
     },
     "execution_count": 41,
     "metadata": {},
     "output_type": "execute_result"
    }
   ],
   "source": [
    "test_dot.mu0"
   ]
  },
  {
   "cell_type": "code",
   "execution_count": 42,
   "metadata": {
    "collapsed": false
   },
   "outputs": [
    {
     "data": {
      "text/plain": [
       "array([ 6.,  5.,  1.])"
      ]
     },
     "execution_count": 42,
     "metadata": {},
     "output_type": "execute_result"
    }
   ],
   "source": [
    "test_dot.W"
   ]
  },
  {
   "cell_type": "code",
   "execution_count": 24,
   "metadata": {
    "collapsed": false
   },
   "outputs": [],
   "source": [
    "import itertools\n",
    "import numpy as np\n",
    "\n",
    "basis = np.array([1, 2, 3])\n",
    "W = np.array([6.0, 5.0, 1.0])\n",
    "\n",
    "dot_products = [np.dot(*v) for v in itertools.combinations(basis, 2)]"
   ]
  },
  {
   "cell_type": "code",
   "execution_count": 26,
   "metadata": {
    "collapsed": false
   },
   "outputs": [
    {
     "data": {
      "text/plain": [
       "33.0"
      ]
     },
     "execution_count": 26,
     "metadata": {},
     "output_type": "execute_result"
    }
   ],
   "source": [
    "np.dot([np.dot(*v) for v in itertools.combinations(basis, 2)],W)"
   ]
  },
  {
   "cell_type": "code",
   "execution_count": 35,
   "metadata": {
    "collapsed": true
   },
   "outputs": [],
   "source": [
    "basis = np.array([1, 2, 3])\n",
    "basis_2 = basis+1\n",
    "prod = np.dot((1/2*np.multiply(basis,basis+1)),W)"
   ]
  },
  {
   "cell_type": "code",
   "execution_count": 36,
   "metadata": {
    "collapsed": false
   },
   "outputs": [
    {
     "data": {
      "text/plain": [
       "27.0"
      ]
     },
     "execution_count": 36,
     "metadata": {},
     "output_type": "execute_result"
    }
   ],
   "source": [
    "prod"
   ]
  }
 ],
 "metadata": {
  "kernelspec": {
   "display_name": "Python 3",
   "language": "python",
   "name": "python3"
  },
  "language_info": {
   "codemirror_mode": {
    "name": "ipython",
    "version": 3
   },
   "file_extension": ".py",
   "mimetype": "text/x-python",
   "name": "python",
   "nbconvert_exporter": "python",
   "pygments_lexer": "ipython3",
   "version": "3.4.5"
  }
 },
 "nbformat": 4,
 "nbformat_minor": 0
}
