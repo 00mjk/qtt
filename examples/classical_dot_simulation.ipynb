{
 "cells": [
  {
   "cell_type": "markdown",
   "metadata": {},
   "source": [
    "## Some examples for testing the `ClassicalDotSystem` class"
   ]
  },
  {
   "cell_type": "code",
   "execution_count": 1,
   "metadata": {
    "collapsed": false
   },
   "outputs": [
    {
     "name": "stdout",
     "output_type": "stream",
     "text": [
      "PyQt4 (API v2)\n"
     ]
    },
    {
     "data": {
      "application/javascript": [
       "/*\n",
       " * Qcodes Jupyter/IPython widgets\n",
       " */\n",
       "require([\n",
       "    'nbextensions/widgets/widgets/js/widget',\n",
       "    'nbextensions/widgets/widgets/js/manager'\n",
       "], function (widget, manager) {\n",
       "\n",
       "    var UpdateView = widget.DOMWidgetView.extend({\n",
       "        render: function() {\n",
       "            window.MYWIDGET = this;\n",
       "            this._interval = 0;\n",
       "            this.update();\n",
       "        },\n",
       "        update: function() {\n",
       "            this.display(this.model.get('_message'));\n",
       "            this.setInterval();\n",
       "        },\n",
       "        display: function(message) {\n",
       "            /*\n",
       "             * display method: override this for custom display logic\n",
       "             */\n",
       "            this.el.innerHTML = message;\n",
       "        },\n",
       "        remove: function() {\n",
       "            clearInterval(this._updater);\n",
       "        },\n",
       "        setInterval: function(newInterval) {\n",
       "            var me = this;\n",
       "            if(newInterval===undefined) newInterval = me.model.get('interval');\n",
       "            if(newInterval===me._interval) return;\n",
       "\n",
       "            me._interval = newInterval;\n",
       "\n",
       "            if(me._updater) clearInterval(me._updater);\n",
       "\n",
       "            if(me._interval) {\n",
       "                me._updater = setInterval(function() {\n",
       "                    me.send({myupdate: true});\n",
       "                    if(!me.model.comm_live) {\n",
       "                        console.log('missing comm, canceling widget updates', me);\n",
       "                        clearInterval(me._updater);\n",
       "                    }\n",
       "                }, me._interval * 1000);\n",
       "            }\n",
       "        }\n",
       "    });\n",
       "    manager.WidgetManager.register_widget_view('UpdateView', UpdateView);\n",
       "\n",
       "    var HiddenUpdateView = UpdateView.extend({\n",
       "        display: function(message) {\n",
       "            this.$el.hide();\n",
       "        }\n",
       "    });\n",
       "    manager.WidgetManager.register_widget_view('HiddenUpdateView', HiddenUpdateView);\n",
       "\n",
       "    var SubprocessView = UpdateView.extend({\n",
       "        render: function() {\n",
       "            var me = this;\n",
       "            me._interval = 0;\n",
       "            me._minimize = '<i class=\"fa-minus fa\"></i>';\n",
       "            me._restore = '<i class=\"fa-plus fa\"></i>';\n",
       "\n",
       "            // max lines of output to show\n",
       "            me.maxOutputLength = 500;\n",
       "\n",
       "            // in case there is already an outputView present,\n",
       "            // like from before restarting the kernel\n",
       "            $('.qcodes-output-view').not(me.$el).remove();\n",
       "\n",
       "            me.$el\n",
       "                .addClass('qcodes-output-view')\n",
       "                .attr('qcodes-state', 'docked')\n",
       "                .html(\n",
       "                    '<div class=\"qcodes-output-header toolbar\">' +\n",
       "                        '<div class=\"qcodes-process-list\"></div>' +\n",
       "                        '<button class=\"btn qcodes-processlines\"><i class=\"fa-list fa\"></i></button>' +\n",
       "                        '<button class=\"btn qcodes-abort-loop disabled\">Abort</button>' +\n",
       "                        '<button class=\"btn qcodes-clear-output disabled qcodes-content\">Clear</button>' +\n",
       "                        '<button class=\"btn js-state qcodes-minimized\"><i class=\"fa-minus fa\"></i></button>' +\n",
       "                        '<button class=\"btn js-state qcodes-docked\"><i class=\"fa-toggle-up fa\"></i></button>' +\n",
       "                        '<button class=\"btn js-state qcodes-floated\"><i class=\"fa-arrows fa\"></i></button>' +\n",
       "                    '</div>' +\n",
       "                    '<pre class=\"qcodes-content\"></pre>'\n",
       "                );\n",
       "\n",
       "            me.clearButton = me.$el.find('.qcodes-clear-output');\n",
       "            me.minButton = me.$el.find('.qcodes-minimize');\n",
       "            me.outputArea = me.$el.find('pre');\n",
       "            me.subprocessList = me.$el.find('.qcodes-process-list');\n",
       "            me.abortButton = me.$el.find('.qcodes-abort-loop');\n",
       "            me.processLinesButton = me.$el.find('.qcodes-processlines')\n",
       "\n",
       "            me.outputLines = [];\n",
       "\n",
       "            me.clearButton.click(function() {\n",
       "                me.outputArea.html('');\n",
       "                me.clearButton.addClass('disabled');\n",
       "            });\n",
       "\n",
       "            me.abortButton.click(function() {\n",
       "                me.send({abort: true});\n",
       "            });\n",
       "\n",
       "            me.processLinesButton.click(function() {\n",
       "                // toggle multiline process list display\n",
       "                me.subprocessesMultiline = !me.subprocessesMultiline;\n",
       "                me.showSubprocesses();\n",
       "            });\n",
       "\n",
       "            me.$el.find('.js-state').click(function() {\n",
       "                var state = this.className.substr(this.className.indexOf('qcodes'))\n",
       "                        .split('-')[1].split(' ')[0];\n",
       "                me.model.set('_state', state);\n",
       "            });\n",
       "\n",
       "            $(window)\n",
       "                .off('resize.qcodes')\n",
       "                .on('resize.qcodes', function() {me.clipBounds();});\n",
       "\n",
       "            me.update();\n",
       "        },\n",
       "\n",
       "        updateState: function() {\n",
       "            var me = this,\n",
       "                oldState = me.$el.attr('qcodes-state'),\n",
       "                state = me.model.get('_state');\n",
       "\n",
       "            if(state === oldState) return;\n",
       "\n",
       "            setTimeout(function() {\n",
       "                // not sure why I can't pop it out of the widgetarea in render, but it seems that\n",
       "                // some other bit of code resets the parent after render if I do it there.\n",
       "                // To be safe, just do it on every state click.\n",
       "                me.$el.appendTo('body');\n",
       "\n",
       "                if(oldState === 'floated') {\n",
       "                    console.log('here');\n",
       "                    me.$el.draggable('destroy').css({left:'', top: ''});\n",
       "                }\n",
       "\n",
       "                me.$el.attr('qcodes-state', state);\n",
       "\n",
       "                if(state === 'floated') {\n",
       "                    me.$el\n",
       "                        .draggable({stop: function() { me.clipBounds(); }})\n",
       "                        .css({\n",
       "                            left: window.innerWidth - me.$el.width() - 15,\n",
       "                            top: window.innerHeight - me.$el.height() - 10\n",
       "                        });\n",
       "                }\n",
       "\n",
       "                // any previous highlighting is now moot\n",
       "                me.$el.removeClass('qcodes-highlight');\n",
       "            }, 0);\n",
       "\n",
       "        },\n",
       "\n",
       "        clipBounds: function() {\n",
       "            var me = this;\n",
       "            if(me.$el.attr('qcodes-state') === 'floated') {\n",
       "                var bounds = me.$el[0].getBoundingClientRect(),\n",
       "                    minVis = 40,\n",
       "                    maxLeft = window.innerWidth - minVis,\n",
       "                    minLeft = minVis - bounds.width,\n",
       "                    maxTop = window.innerHeight - minVis;\n",
       "\n",
       "                if(bounds.left > maxLeft) me.$el.css('left', maxLeft);\n",
       "                else if(bounds.left < minLeft) me.$el.css('left', minLeft);\n",
       "\n",
       "                if(bounds.top > maxTop) me.$el.css('top', maxTop);\n",
       "                else if(bounds.top < 0) me.$el.css('top', 0);\n",
       "            }\n",
       "        },\n",
       "\n",
       "        display: function(message) {\n",
       "            var me = this;\n",
       "            if(message) {\n",
       "                var initialScroll = me.outputArea.scrollTop();\n",
       "                me.outputArea.scrollTop(me.outputArea.prop('scrollHeight'));\n",
       "                var scrollBottom = me.outputArea.scrollTop();\n",
       "\n",
       "                if(me.$el.attr('qcodes-state') === 'minimized') {\n",
       "                    // if we add text and the box is minimized, highlight the\n",
       "                    // title bar to alert the user that there are new messages.\n",
       "                    // remove then add the class, so we get the animation again\n",
       "                    // if it's already highlighted\n",
       "                    me.$el.removeClass('qcodes-highlight');\n",
       "                    setTimeout(function(){\n",
       "                        me.$el.addClass('qcodes-highlight');\n",
       "                    }, 0);\n",
       "                }\n",
       "\n",
       "                var newLines = message.split('\\n'),\n",
       "                    out = me.outputLines,\n",
       "                    outLen = out.length;\n",
       "                if(outLen) out[outLen - 1] += newLines[0];\n",
       "                else out.push(newLines[0]);\n",
       "\n",
       "                for(var i = 1; i < newLines.length; i++) {\n",
       "                    out.push(newLines[i]);\n",
       "                }\n",
       "\n",
       "                if(out.length > me.maxOutputLength) {\n",
       "                    out.splice(0, out.length - me.maxOutputLength + 1,\n",
       "                        '<<< Output clipped >>>');\n",
       "                }\n",
       "\n",
       "                me.outputArea.text(out.join('\\n'));\n",
       "                me.clearButton.removeClass('disabled');\n",
       "\n",
       "                // if we were scrolled to the bottom initially, make sure\n",
       "                // we stay that way.\n",
       "                me.outputArea.scrollTop(initialScroll === scrollBottom ?\n",
       "                    me.outputArea.prop('scrollHeight') : initialScroll);\n",
       "            }\n",
       "\n",
       "            me.showSubprocesses();\n",
       "            me.updateState();\n",
       "        },\n",
       "\n",
       "        showSubprocesses: function() {\n",
       "            var me = this,\n",
       "                replacer = me.subprocessesMultiline ? '<br>' : ', ',\n",
       "                processes = (me.model.get('_processes') || '')\n",
       "                    .replace(/\\n/g, '&gt;' + replacer + '&lt;');\n",
       "\n",
       "            if(processes) processes = '&lt;' + processes + '&gt;';\n",
       "            else processes = 'No subprocesses';\n",
       "\n",
       "            me.abortButton.toggleClass('disabled', processes.indexOf('Measurement')===-1);\n",
       "\n",
       "            me.subprocessList.html(processes);\n",
       "        }\n",
       "    });\n",
       "    manager.WidgetManager.register_widget_view('SubprocessView', SubprocessView);\n",
       "});\n"
      ],
      "text/plain": [
       "<IPython.core.display.Javascript object>"
      ]
     },
     "metadata": {},
     "output_type": "display_data"
    },
    {
     "data": {
      "text/html": [
       "<style>.qcodes-output-view:not(.ui-draggable) {\n",
       "    bottom: 0;\n",
       "    right: 5px;\n",
       "}\n",
       ".qcodes-output-view {\n",
       "    position: fixed;\n",
       "    z-index: 999;\n",
       "    background-color: #fff;\n",
       "    box-shadow: 0 0 12px 1px rgba(87, 87, 87, 0.2);\n",
       "}\n",
       "\n",
       ".qcodes-output-header {\n",
       "    float: right;\n",
       "}\n",
       "\n",
       ".qcodes-highlight {\n",
       "    animation: pulse 1s linear;\n",
       "    background-color: #fa4;\n",
       "}\n",
       "\n",
       "@keyframes pulse {\n",
       "    0% {\n",
       "        background-color: #f00;\n",
       "    }\n",
       "    100% {\n",
       "        background-color: #fa4;\n",
       "    }\n",
       "}\n",
       "\n",
       ".qcodes-process-list {\n",
       "    float: left;\n",
       "    max-width: 780px;\n",
       "    margin: 3px 5px 3px 10px;\n",
       "    overflow: hidden;\n",
       "    white-space: nowrap;\n",
       "    text-overflow: ellipsis;\n",
       "}\n",
       "\n",
       ".qcodes-output-view[qcodes-state=minimized] .qcodes-process-list {\n",
       "    max-width: 300px;\n",
       "}\n",
       "\n",
       ".qcodes-output-view span {\n",
       "    padding: 2px 6px 3px 12px;\n",
       "}\n",
       "\n",
       ".qcodes-output-view .btn {\n",
       "    margin: 0 3px 0 0;\n",
       "}\n",
       "\n",
       ".qcodes-output-view[qcodes-state=docked] .qcodes-docked,\n",
       ".qcodes-output-view[qcodes-state=floated] .qcodes-floated,\n",
       ".qcodes-output-view[qcodes-state=minimized] .qcodes-minimized,\n",
       ".qcodes-output-view[qcodes-state=minimized] .qcodes-content {\n",
       "    display: none;\n",
       "}\n",
       "\n",
       ".qcodes-output-view .disabled {\n",
       "    opacity: 0.4;\n",
       "}\n",
       "\n",
       ".qcodes-abort-loop {\n",
       "    background-color: #844;\n",
       "    color: #fff;\n",
       "}\n",
       "\n",
       ".qcodes-output-view pre {\n",
       "    clear: both;\n",
       "    margin: 0;\n",
       "    border: 0;\n",
       "    border-top: 1px solid #ccc;\n",
       "    background-color: #ffe;\n",
       "    min-height: 50px;\n",
       "    max-height: 400px;\n",
       "    min-width: 400px;\n",
       "    max-width: 1000px;\n",
       "}</style>"
      ],
      "text/plain": [
       "<IPython.core.display.HTML object>"
      ]
     },
     "metadata": {},
     "output_type": "display_data"
    }
   ],
   "source": [
    "import numpy as np\n",
    "from qtt.simulation.classicaldotsystem import ClassicalDotSystem, TripleDot"
   ]
  },
  {
   "cell_type": "code",
   "execution_count": 2,
   "metadata": {
    "collapsed": false
   },
   "outputs": [],
   "source": [
    "test_dot = TripleDot()"
   ]
  },
  {
   "cell_type": "code",
   "execution_count": 3,
   "metadata": {
    "collapsed": false
   },
   "outputs": [
    {
     "data": {
      "text/plain": [
       "array([0, 0, 0])"
      ]
     },
     "execution_count": 3,
     "metadata": {},
     "output_type": "execute_result"
    }
   ],
   "source": [
    "temp_state = test_dot.calculate_ground_state(np.array([0,0,0]))\n",
    "temp_state"
   ]
  },
  {
   "cell_type": "code",
   "execution_count": 4,
   "metadata": {
    "collapsed": false
   },
   "outputs": [
    {
     "name": "stdout",
     "output_type": "stream",
     "text": [
<<<<<<< HEAD
      "simulatehoneycomb: 0/150\n",
      "simulatehoneycomb: 34/150\n",
      "simulatehoneycomb: 68/150\n",
      "simulatehoneycomb: 102/150\n",
      "simulatehoneycomb: 136/150\n",
      "simulatehoneycomb: 4.80 [s]\n"
=======
      "simulatehoneycomb: 14.8 [s]\n"
>>>>>>> 667dab7cd7270488ddc4e86178a1fe88589d7258
     ]
    }
   ],
   "source": [
    "# make a test gate plane\n",
    "nx = 150\n",
    "ny = 150\n",
    "test2Dparams = np.zeros((3,nx,ny))\n",
    "sweepx = np.linspace(0, 300, nx)\n",
    "sweepy = np.linspace(0, 1, ny)\n",
    "xv, yv = np.meshgrid(sweepx, sweepy)\n",
    "test2Dparams[0] = xv+yv\n",
    "xv, yv = np.meshgrid(sweepy, sweepx)\n",
    "test2Dparams[1] = xv+yv\n",
    "\n",
    "# run the honeycomb simulation\n",
<<<<<<< HEAD
    "test_dot.simulate_honeycomb(test2Dparams, multiprocess=False, verbose=1)"
=======
    "test_dot.simulate_honeycomb(test2Dparams, multiprocess=True)"
>>>>>>> 667dab7cd7270488ddc4e86178a1fe88589d7258
   ]
  },
  {
   "cell_type": "code",
   "execution_count": 5,
   "metadata": {
    "collapsed": false
   },
   "outputs": [
    {
     "data": {
<<<<<<< HEAD
      "image/png": "iVBORw0KGgoAAAANSUhEUgAAAV4AAAEACAYAAAD7rx6dAAAABHNCSVQICAgIfAhkiAAAAAlwSFlz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\nGX7iSq4AAAAASUVORK5CYII=\n",
      "text/plain": [
       "<matplotlib.figure.Figure at 0x7fd7dccc7c88>"
=======
      "image/png": "iVBORw0KGgoAAAANSUhEUgAAAV4AAAEACAYAAAD7rx6dAAAABHNCSVQICAgIfAhkiAAAAAlwSFlz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\nA8NdbSU3AAAAAElFTkSuQmCC\n",
      "text/plain": [
       "<matplotlib.figure.Figure at 0x1209b4668>"
>>>>>>> 667dab7cd7270488ddc4e86178a1fe88589d7258
      ]
     },
     "metadata": {},
     "output_type": "display_data"
    }
   ],
   "source": [
    "%matplotlib inline\n",
    "import matplotlib.pyplot as plt\n",
    "\n",
    "plt.pcolor(sweepx,sweepy,test_dot.honeycomb)\n",
    "plt.colorbar()\n",
    "plt.show()"
   ]
  },
  {
   "cell_type": "code",
   "execution_count": 6,
   "metadata": {
    "collapsed": false
   },
   "outputs": [],
   "source": [
    "class TestDot(ClassicalDotSystem):\n",
    "    def __init__(self, name='testdot', **kwargs):\n",
    "        super().__init__(name=name, ndots=3, ngates=3, maxelectrons=2, **kwargs)\n",
    "\n",
    "        self.makebasis()\n",
    "\n",
    "        vardict = {}\n",
    "\n",
    "        vardict[\"mu0_values\"] = np.array([-27.0, -20.0, -25.0])  # chemical potential at zero gate voltage\n",
    "        vardict[\"Eadd_values\"] = np.array([54.0, 52.8, 54.0])  # addition energy\n",
    "        vardict[\"W_values\"] = np.array([12.0, 5.0, 10.0])  # coulomb repulsion (!order is important: (1,2), (1,3), (2,3)) (lexicographic ordering)\n",
    "        vardict[\"alpha_values\"] = np.array([[1.0, 0.25, 0.1],\n",
    "                                 [0.25, 1.0, 0.25],\n",
    "                                 [0.1, 0.25, 1.0]])\n",
    "\n",
    "        for name in self.varnames:\n",
    "            setattr(self, name, vardict[name+'_values'])"
   ]
  },
  {
   "cell_type": "code",
   "execution_count": 7,
   "metadata": {
    "collapsed": false
   },
   "outputs": [
    {
     "name": "stdout",
     "output_type": "stream",
     "text": [
<<<<<<< HEAD
      "simulatehoneycomb: 0.47 [s]\n"
=======
      "simulatehoneycomb: 3.2 [s]\n"
>>>>>>> 667dab7cd7270488ddc4e86178a1fe88589d7258
     ]
    }
   ],
   "source": [
    "test_dot_2 = TestDot()\n",
    "\n",
    "# make a test gate plane\n",
    "nx = 100\n",
    "ny = 100\n",
    "test2Dparams = np.zeros((3,nx,ny))\n",
    "sweepx = np.linspace(0, 200, nx)\n",
    "sweepy = np.linspace(0, 1, ny)\n",
    "xv, yv = np.meshgrid(sweepx, sweepy)\n",
    "test2Dparams[0] = xv+yv\n",
    "xv, yv = np.meshgrid(sweepy, sweepx)\n",
    "test2Dparams[1] = xv+yv\n",
    "\n",
    "# run the honeycomb simulation\n",
    "test_dot_2.simulate_honeycomb(test2Dparams)"
   ]
  },
  {
   "cell_type": "code",
   "execution_count": 8,
   "metadata": {
    "collapsed": false
   },
   "outputs": [
    {
     "data": {
      "image/png": "iVBORw0KGgoAAAANSUhEUgAAAV4AAAEACAYAAAD7rx6dAAAABHNCSVQICAgIfAhkiAAAAAlwSFlz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\nByygN8swj30pAAAAAElFTkSuQmCC\n",
      "text/plain": [
       "<matplotlib.figure.Figure at 0x12099d780>"
      ]
     },
     "metadata": {},
     "output_type": "display_data"
    }
   ],
   "source": [
    "%matplotlib inline\n",
    "import matplotlib.pyplot as plt\n",
    "\n",
    "plt.pcolor(sweepx,sweepy,test_dot_2.honeycomb)\n",
    "plt.colorbar()\n",
    "plt.show()"
   ]
  },
  {
   "cell_type": "code",
   "execution_count": null,
   "metadata": {
    "collapsed": true
   },
   "outputs": [],
   "source": []
  }
 ],
 "metadata": {
  "kernelspec": {
   "display_name": "Python 3",
   "language": "python",
   "name": "python3"
  },
  "language_info": {
   "codemirror_mode": {
    "name": "ipython",
    "version": 3
   },
   "file_extension": ".py",
   "mimetype": "text/x-python",
   "name": "python",
   "nbconvert_exporter": "python",
   "pygments_lexer": "ipython3",
<<<<<<< HEAD
   "version": "3.5.2"
=======
   "version": "3.4.5"
>>>>>>> 667dab7cd7270488ddc4e86178a1fe88589d7258
  }
 },
 "nbformat": 4,
 "nbformat_minor": 0
}
