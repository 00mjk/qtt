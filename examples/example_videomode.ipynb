{
 "cells": [
  {
   "cell_type": "markdown",
   "metadata": {},
   "source": [
    "# Example of videomode tuning"
   ]
  },
  {
   "cell_type": "markdown",
   "metadata": {},
   "source": [
    "In this example we show how to initialize and use the videomode for 1D and 2D scans of gates. Note that the code shown below is not suitable for running via this Jupyter notebook, because the GUI for the videomode will not work here and the station, stationV2, corresponds to a real set-up, which is probably not available from the PC this example is being run on."
   ]
  },
  {
   "cell_type": "markdown",
   "metadata": {},
   "source": [
    "Sjaak van diepen - sjaak.vandiepen@tno.nl"
   ]
  },
  {
   "cell_type": "markdown",
   "metadata": {},
   "source": [
    "#### Import modules"
   ]
  },
  {
   "cell_type": "markdown",
   "metadata": {},
   "source": [
    "Import the station and the VideoMode class. Here we use the stationV2 as an example, because there is not a virtual station available which can be used for a simulation of the videomode."
   ]
  },
  {
   "cell_type": "code",
   "execution_count": null,
   "metadata": {
    "collapsed": true
   },
   "outputs": [],
   "source": [
    "import stationV2\n",
    "from qtt.videomode import VideoMode"
   ]
  },
  {
   "cell_type": "markdown",
   "metadata": {},
   "source": [
    "#### Initialize the station"
   ]
  },
  {
   "cell_type": "code",
   "execution_count": null,
   "metadata": {
    "collapsed": true
   },
   "outputs": [],
   "source": [
    "station = stationV2.initialize()"
   ]
  },
  {
   "cell_type": "markdown",
   "metadata": {},
   "source": [
    "#### 1D - videomode"
   ]
  },
  {
   "cell_type": "markdown",
   "metadata": {},
   "source": [
    "First set which parameter to sweep, this must be a parameter of the gates instrument in the station, over which range (in milliVolt) to sweep and which FPGA channel to acquire the data from. Then we would run the last line in the cell below, which starts a GUI that looks like the image below. This image is a print screen taken of a 1D videomode."
   ]
  },
  {
   "cell_type": "code",
   "execution_count": null,
   "metadata": {
    "collapsed": true
   },
   "outputs": [],
   "source": [
    "sweepparams = 'P3'\n",
    "sweepranges = 100\n",
    "fpga_ch = 1\n",
    "vm = VideoMode(station, sweepparams=sweepparams, sweepranges=sweepranges, fpga_ch=fpga_ch)"
   ]
  },
  {
   "cell_type": "markdown",
   "metadata": {},
   "source": [
    "<img src=\"../qtt/exampledata/videomode_1d_printscreen.png\">"
   ]
  },
  {
   "cell_type": "markdown",
   "metadata": {},
   "source": [
    "The framerate of the videomode is shown in the title of the window. When this print screen was taken the framerate was 12.05 frames per second. The \"Start\" and \"Stop\" buttons can be used for starting and stopping the videomode. Note that these buttons control both the plotting and the AWG sweep."
   ]
  },
  {
   "cell_type": "markdown",
   "metadata": {},
   "source": [
    "#### 2D - videomode"
   ]
  },
  {
   "cell_type": "code",
   "execution_count": null,
   "metadata": {
    "collapsed": true
   },
   "outputs": [],
   "source": [
    "sweepparams = ['P2', 'P3']\n",
    "sweepranges = [100, 100]\n",
    "fpga_ch = 1\n",
    "vm = VideoMode(station, sweepparams=sweepparams, sweepranges=sweepranges, fpga_ch=fpga_ch)"
   ]
  },
  {
   "cell_type": "markdown",
   "metadata": {},
   "source": [
    "<img src=\"../qtt/exampledata/videomode_2d_printscreen.png\">"
   ]
  }
 ],
 "metadata": {
  "anaconda-cloud": {},
  "kernelspec": {
   "display_name": "Python [conda env:qutech3]",
   "language": "python",
   "name": "conda-env-qutech3-py"
  },
  "language_info": {
   "codemirror_mode": {
    "name": "ipython",
    "version": 3
   },
   "file_extension": ".py",
   "mimetype": "text/x-python",
   "name": "python",
   "nbconvert_exporter": "python",
   "pygments_lexer": "ipython3",
   "version": "3.5.2"
  }
 },
 "nbformat": 4,
 "nbformat_minor": 1
}
