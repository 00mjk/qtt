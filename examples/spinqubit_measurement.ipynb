{
 "cells": [
  {
   "cell_type": "markdown",
   "metadata": {},
   "source": [
    "# Spin qubit measurement software"
   ]
  },
  {
   "cell_type": "markdown",
   "metadata": {},
   "source": [
    "Also see: https://github.com/VandersypenQutech/qtt/"
   ]
  },
  {
   "cell_type": "markdown",
   "metadata": {},
   "source": [
    "Load packages"
   ]
  },
  {
   "cell_type": "code",
   "execution_count": 1,
   "metadata": {},
   "outputs": [],
   "source": [
    "import sys, os, tempfile\n",
    "import numpy as np\n",
    "%matplotlib inline\n",
    "%gui qt\n",
    "import qcodes\n",
    "import qtt\n",
    "from qcodes.plots.pyqtgraph import QtPlot\n",
    "from qcodes.plots.qcmatplotlib import MatPlot\n",
    "\n",
    "# set data directory\n",
    "datadir = os.path.join(tempfile.tempdir, 'qdata')\n",
    "qcodes.DataSet.default_io = qcodes.DiskIO(datadir)    "
   ]
  },
  {
   "cell_type": "markdown",
   "metadata": {},
   "source": [
    "## Load your station"
   ]
  },
  {
   "cell_type": "markdown",
   "metadata": {},
   "source": [
    "The model resembles the a 3-dot spin-qubit dot setup. The hardware consists of a virtual\n",
    "keithley, IVVI racks and a virtual gates object."
   ]
  },
  {
   "cell_type": "code",
   "execution_count": 2,
   "metadata": {},
   "outputs": [
    {
     "name": "stdout",
     "output_type": "stream",
     "text": [
      "initialized virtual dot system\n"
     ]
    }
   ],
   "source": [
    "import virtualDot\n",
    "nr_dots = 2\n",
    "station = virtualDot.initialize(nr_dots=nr_dots)\n",
    "\n",
    "keithley1 = station.keithley1\n",
    "keithley3 = station.keithley3\n",
    "\n",
    "# virtual gates for the model\n",
    "gates = station.gates"
   ]
  },
  {
   "cell_type": "markdown",
   "metadata": {},
   "source": [
    "## Setup measurement windows"
   ]
  },
  {
   "cell_type": "markdown",
   "metadata": {},
   "source": [
    "We have\n",
    "* a parameter viewer\n",
    "* a lot plotting window"
   ]
  },
  {
   "cell_type": "code",
   "execution_count": null,
   "metadata": {
    "collapsed": true
   },
   "outputs": [],
   "source": [
    "pv = qtt.parameterviewer.createParameterWidget([gates, ])\n",
    "mwindows = qtt.tools.setupMeasurementWindows(station, create_parameter_widget=False)\n",
    "plotQ = mwindows['plotwindow']   "
   ]
  },
  {
   "cell_type": "markdown",
   "metadata": {},
   "source": [
    "## Read out instruments"
   ]
  },
  {
   "cell_type": "code",
   "execution_count": null,
   "metadata": {},
   "outputs": [],
   "source": [
    "print('gate R: %.1f, amplitude: %f' % (gates.R.get(),  keithley3.readnext()) )\n",
    "snapshotdata = station.snapshot()"
   ]
  },
  {
   "cell_type": "markdown",
   "metadata": {},
   "source": [
    "## Simple 1D scan loop"
   ]
  },
  {
   "cell_type": "markdown",
   "metadata": {},
   "source": [
    "We use the `scan1D` function. This function has `scanjob` as argument."
   ]
  },
  {
   "cell_type": "code",
   "execution_count": null,
   "metadata": {},
   "outputs": [],
   "source": [
    "scanjob = dict({'sweepdata': dict({'param': 'R', 'start': -500, 'end': 1, 'step': .8, 'wait_time': 1e-2}), 'minstrument': [keithley3.amplitude]})\n",
    "data1d = qtt.scans.scan1D(station, scanjob, location=None, verbose=1)"
   ]
  },
  {
   "cell_type": "markdown",
   "metadata": {},
   "source": [
    "## Print the scanned data"
   ]
  },
  {
   "cell_type": "code",
   "execution_count": null,
   "metadata": {},
   "outputs": [],
   "source": [
    "print( data1d.default_parameter_name() )\n",
    "adata = qtt.algorithms.gatesweep.analyseGateSweep(data1d, fig=100)"
   ]
  },
  {
   "cell_type": "markdown",
   "metadata": {},
   "source": [
    "##  Make a 2D scan"
   ]
  },
  {
   "cell_type": "code",
   "execution_count": null,
   "metadata": {},
   "outputs": [],
   "source": [
    "start=-500\n",
    "scanjob = dict({'sweepdata': dict({'param': 'R', 'start': start, 'end': start+400, 'step': 4.}), 'minstrument': ['keithley1'], 'wait_time': 0.})\n",
    "scanjob['stepdata'] = dict({'param': 'L', 'start': start, 'end': start+400, 'step': 1.})\n",
    "data = qtt.scans.scan2D(station, scanjob, liveplotwindow=plotQ)"
   ]
  },
  {
   "cell_type": "markdown",
   "metadata": {},
   "source": [
    "## More analysis"
   ]
  },
  {
   "cell_type": "code",
   "execution_count": null,
   "metadata": {},
   "outputs": [],
   "source": [
    "#qtt.scans.plotData(data, fig=30)\n",
    "pt, resultsfine = qtt.legacy.analyse2dot(data, fig=300, efig=400, istep=1, verbose=2)"
   ]
  },
  {
   "cell_type": "markdown",
   "metadata": {},
   "source": [
    "## Send data to powerpoint"
   ]
  },
  {
   "cell_type": "markdown",
   "metadata": {},
   "source": [
    "We can copy data from a dataset to Powerpoint using `qtt.tools.addPPT_dataset(dataset)`."
   ]
  },
  {
   "cell_type": "code",
   "execution_count": null,
   "metadata": {},
   "outputs": [],
   "source": [
    "_=qtt.tools.addPPT_dataset(data, verbose=1)    "
   ]
  },
  {
   "cell_type": "markdown",
   "metadata": {},
   "source": [
    "## Show the recorded data"
   ]
  },
  {
   "cell_type": "code",
   "execution_count": 6,
   "metadata": {},
   "outputs": [
    {
     "name": "stdout",
     "output_type": "stream",
     "text": [
      "findfilesR: C:\\Users\\EENDEB~1\\AppData\\Local\\Temp\\qdata: 0.0%\n",
      "DataViewer: found 11 files\n"
     ]
    }
   ],
   "source": [
    "logviewer = qtt.gui.dataviewer.DataViewer(datadir=datadir, verbose=1)"
   ]
  },
  {
   "cell_type": "code",
   "execution_count": 4,
   "metadata": {},
   "outputs": [
    {
     "data": {
      "text/plain": [
       "<module 'qtt.gui.dataviewer' from 'c:\\\\svn\\\\qtt\\\\qtt\\\\gui\\\\dataviewer.py'>"
      ]
     },
     "execution_count": 4,
     "metadata": {},
     "output_type": "execute_result"
    }
   ],
   "source": [
    "from imp import reload ; reload(qtt.gui.dataviewer)"
   ]
  },
  {
   "cell_type": "code",
   "execution_count": null,
   "metadata": {
    "collapsed": true
   },
   "outputs": [],
   "source": []
  }
 ],
 "metadata": {
  "kernelspec": {
   "display_name": "Python 3",
   "language": "python",
   "name": "python3"
  },
  "language_info": {
   "codemirror_mode": {
    "name": "ipython",
    "version": 3
   },
   "file_extension": ".py",
   "mimetype": "text/x-python",
   "name": "python",
   "nbconvert_exporter": "python",
   "pygments_lexer": "ipython3",
   "version": "3.5.2"
  }
 },
 "nbformat": 4,
 "nbformat_minor": 2
}
